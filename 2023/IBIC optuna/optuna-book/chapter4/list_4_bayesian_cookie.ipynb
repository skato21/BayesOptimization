{
 "cells": [
  {
   "cell_type": "markdown",
   "metadata": {
    "id": "oNMFp4_tH1aZ"
   },
   "source": [
    "# Optunaを用いたクッキーレシピ最適化\n",
    "\n",
    "オープンソースのハイパーパラメータ最適化フレームワーク[Optuna](https://optuna.org)を使って、チョコチップクッキーのレシピを最適化するためのノートブックです。\n",
    "\n",
    "実験では下記のように、繰り返しクッキーを作り、試食をして、徐々によいレシピを見つけていきます。１日１レシピを試すなど、気長に実験をしていきましょう。\n",
    "\n",
    "1. Optunaによるレシピの提案\n",
    "2. レシピに基づいてクッキーを焼く\n",
    "3. クッキーの評価値をOptunaに報告\n",
    "4. 1に戻る\n",
    "\n",
    "最初、Optunaはあなたの好みについて何も知りませんから、とんでもないレシピ(例: バターも砂糖もチョコチップも上限いっぱいのクッキーや、逆に下限すれすれのクッキー)を推薦することがあります。そのような時、我慢して試作していては、つらくて実験をやめたくなってしまうかもしれません。代わりに、あなた自身でレシピを修正し、登録しなおせるようになっていますので、ご安心ください。\n",
    "\n",
    "最適化の手順や探索空間などは、Googleの研究者による論文[Bayesian Optimization for a Better Dessert](https://static.googleusercontent.com/media/research.google.com/ja//pubs/archive/46507.pdf)に基づいています。論文ではピッツバーグとカリフォルニアの２か所で実験を行い、それぞれのベストレシピを報告しています。このノートブックにも、レシピを載せています。実験の最初に、それらを作ってみて、スコアをOptunaに報告しておくと、より早く、好みのレシピにたどり着けるかもしれません。ノートブックの最後にそのためのセルを用意していますので、ご利用ください。\n",
    "\n",
    "なお、下記の理由で論文と完全に一致するものではないことをご了承ください。\n",
    "\n",
    "- 最適化ソフトウェアが論文ではGoogle Vizierを使っているのに対し、このノートブックではOptunaを使っている。\n",
    "- 論文に書かれていない情報がある (例: 離散変数のステップ幅)\n",
    "- 論文ではシェフのフィードバックをもとに探索空間を変えていた\n",
    "\n",
    "最後の点について、あなたも探索範囲を変えることを試してみると良いかもしれません。実験がアメリカで行われたためか、バター、砂糖、チョコチップの量は、最小にしたとしても、日本でよくみるレシピより多くなっているように思います。\n",
    "\n",
    "では、あなたにとって、よいクッキーが見つかりますように！"
   ]
  },
  {
   "cell_type": "markdown",
   "metadata": {
    "id": "5_zQ4uYqNa9P"
   },
   "source": [
    "## 0. 環境構築\n",
    "\n",
    "Optunaをインストールし、探索空間とユーティリティ関数を読み込みます。"
   ]
  },
  {
   "cell_type": "code",
   "execution_count": 1,
   "metadata": {
    "colab": {
     "base_uri": "https://localhost:8080/"
    },
    "id": "SKyr6spK5B-c",
    "outputId": "1325c762-f6ef-4679-aff5-24277d936ed8"
   },
   "outputs": [
    {
     "name": "stdout",
     "output_type": "stream",
     "text": [
      "Note: you may need to restart the kernel to use updated packages.\n"
     ]
    }
   ],
   "source": [
    "%pip install --progress-bar off --quiet optuna pandas plotly"
   ]
  },
  {
   "cell_type": "code",
   "execution_count": 1,
   "metadata": {
    "colab": {
     "base_uri": "https://localhost:8080/",
     "height": 35
    },
    "id": "HXnXxwTt5SXf",
    "outputId": "6bf23d06-f9ce-43c6-8e5e-604e47222501"
   },
   "outputs": [
    {
     "data": {
      "text/plain": [
       "'3.0.3'"
      ]
     },
     "execution_count": 1,
     "metadata": {},
     "output_type": "execute_result"
    }
   ],
   "source": [
    "import optuna\n",
    "optuna.__version__"
   ]
  },
  {
   "cell_type": "markdown",
   "metadata": {
    "id": "lQQtQpp__BKT"
   },
   "source": [
    "探索空間の初期値は、カリフォルニアでの実験の探索空間をベースに、不足している情報(例、小さじのきざみ幅など)を補ったものです。あなたの好みに合わせて、探索空間を変えることができます。\n",
    "変更した場合には、ノートブックを保存することを忘れないでください！\n"
   ]
  },
  {
   "cell_type": "code",
   "execution_count": 2,
   "metadata": {
    "id": "462rBmg65cGo"
   },
   "outputs": [],
   "source": [
    "# チョコチップの種類\n",
    "chocolate_chip_types = [\"dark\", \"milk\"]\n",
    "\n",
    "# チョコチップの量。単位はグラム。\n",
    "chocolate_chip_low = 84\n",
    "chocolate_chip_high = 260\n",
    "\n",
    "# ベーキングパウダーの量。単位は小さじ。1/16きざみ\n",
    "# 本来は 0,0548 から 0.655 だが、0.0548はスプレッドシートのエラーが原因とのこと\n",
    "# 計量の精度の限界も踏まえて1/16 (0.0625) から 11/16 (0.6875) で代替\n",
    "baking_soda_low = 1 / 16\n",
    "baking_soda_high = 11 / 16\n",
    "baking_soda_step = 1 / 16\n",
    "\n",
    "# バターの量。単位はグラム。\n",
    "butter_low = 45\n",
    "butter_high = 175\n",
    "\n",
    "# たまごの量。単位はグラム。\n",
    "egg_low = 25\n",
    "egg_high = 35\n",
    "\n",
    "# 食塩の量。単位は小さじ。1/8きざみ\n",
    "salt_low = 1 / 4\n",
    "salt_high = 1\n",
    "salt_step = 1 / 8\n",
    "\n",
    "# 砂糖の総量。単位はグラム\n",
    "sugar_low = 90\n",
    "sugar_high = 500\n",
    "\n",
    "# ブラウンシュガーの割合。単位は%。残りは白砂糖。\n",
    "brown_sugar_low = 0\n",
    "brown_sugar_high = 1\n",
    "\n",
    "# バニラエッセンスの量。単位は小さじ。 1/8きざみ\n",
    "vanilla_low = 0\n",
    "vanilla_high = 1.25\n",
    "vanilla_step = 1 / 8\n",
    "\n",
    "# オレンジエッセンスの量。単位は小さじ。1/8きざみ\n",
    "orange_low = 0\n",
    "orange_high = 3 / 4\n",
    "orange_step = 1 / 8\n",
    "\n",
    "# @markdown カイエンペッパーの量。単位は小さじ。1/8きざみ\n",
    "cayenne_pepper_low = 0\n",
    "cayenne_pepper_high = 1 / 2\n",
    "cayenne_pepper_step = 1 / 8"
   ]
  },
  {
   "cell_type": "code",
   "execution_count": 3,
   "metadata": {
    "id": "o9vwTgy35fc2"
   },
   "outputs": [],
   "source": [
    "# 入力された範囲をもとに、Optunaの探索空間を定義します\n",
    "from optuna.distributions import (\n",
    "    CategoricalDistribution, \n",
    "    FloatDistribution,\n",
    "    IntDistribution,\n",
    ")\n",
    "\n",
    "from IPython.display import Markdown\n",
    "\n",
    "def define_search_space():\n",
    "    return {\n",
    "        \"chocolate_chip_type\": CategoricalDistribution(choices=chocolate_chip_types),\n",
    "        \"chocolate_chip\": IntDistribution(low=chocolate_chip_low, high=chocolate_chip_high),\n",
    "        \"baking_soda\": FloatDistribution(low=baking_soda_low, high=baking_soda_high, step=baking_soda_step),\n",
    "        \"butter\": IntDistribution(low=butter_low, high=butter_high),\n",
    "        \"egg\": IntDistribution(low=egg_low, high=egg_high),\n",
    "        \"salt\": FloatDistribution(low=salt_low, high=salt_high, step=salt_step),\n",
    "        \"sugar\": IntDistribution(low=sugar_low, high=sugar_high),\n",
    "        \"brown_sugar\": FloatDistribution(low=brown_sugar_low, high=brown_sugar_high),\n",
    "        \"vanilla\": FloatDistribution(low=vanilla_low, high=vanilla_high, step=vanilla_step),\n",
    "        \"orange\": FloatDistribution(low=orange_low, high=orange_high, step=orange_step),\n",
    "        \"cayenne_pepper\": FloatDistribution(low=cayenne_pepper_low, high=cayenne_pepper_high, step=cayenne_pepper_step),\n",
    "    }\n",
    "\n",
    "\n",
    "# ユーティリティ関数\n",
    "# クッキーのレシピを表形式で表示\n",
    "ingredients = {\n",
    "    \"chocolate_chip\": (\"チョコチップ\", \"グラム\"),\n",
    "    \"baking_soda\": (\"ベーキングパウダー\", \"小さじ\"),\n",
    "    \"salt\": (\"食塩\", \"小さじ\"),\n",
    "    \"cayenne_pepper\": (\"唐辛子\", \"小さじ\"),\n",
    "    \"sugar\": (\"砂糖\", \"グラム\"),\n",
    "    \"egg\": (\"たまご\", \"グラム\"),\n",
    "    \"butter\": (\"バター\", \"グラム\"),\n",
    "    \"orange\": (\"オレンジエッセンス\", \"小さじ\"),\n",
    "    \"vanilla\": (\"バニラエッセンス\", \"小さじ\"),\n",
    "}\n",
    "\n",
    "def create_recipe_table(params):\n",
    "    line = \"| 材料 | 単位 | 種類・量 |\\n\"\n",
    "    line += \"| --- | --- | --- |\\n\"\n",
    "    # 小麦粉\n",
    "    value = 167\n",
    "    line += f\"| 小麦粉 | グラム | {value:.1f} |\\n\"\n",
    "    # チョコチップの種類\n",
    "    line += f\"| チョコチップの種類 | N/A | {params['chocolate_chip_type']} |\\n\" \n",
    "    for name in ingredients.keys():\n",
    "        value = params[name]\n",
    "        if name == \"brown_sugar\":\n",
    "            # see \"sugar\" branch for usage of \"brown_sugar\"\n",
    "            continue\n",
    "        if name == \"sugar\":\n",
    "            sugar_total = params[\"sugar\"]\n",
    "            value = params[\"brown_sugar\"] * sugar_total\n",
    "            line += f\"| ブラウンシュガー | グラム | {value:.1f} |\\n\"\n",
    "            value = sugar_total - value\n",
    "            line += f\"| 白砂糖 | グラム | {value:.1f} |\\n\"\n",
    "            continue\n",
    "        _name, _unit = ingredients[name]\n",
    "        value = params[name]\n",
    "        line += f\"| {_name} | {_unit} | {value:.2f} |\\n\"\n",
    "    return line\n"
   ]
  },
  {
   "cell_type": "markdown",
   "metadata": {
    "id": "PpsnfhWmQw83"
   },
   "source": [
    "## 1. Optunaによるレシピの提案"
   ]
  },
  {
   "cell_type": "code",
   "execution_count": 4,
   "metadata": {
    "colab": {
     "base_uri": "https://localhost:8080/"
    },
    "id": "_EXLQ7Hf9XRf",
    "outputId": "84c6dcc0-fecc-4b6e-8a21-e43d07695e5d"
   },
   "outputs": [
    {
     "name": "stderr",
     "output_type": "stream",
     "text": [
      "\u001b[32m[I 2022-11-08 03:09:58,535]\u001b[0m A new study created in RDB with name: bayesian-cookie-1\u001b[0m\n"
     ]
    }
   ],
   "source": [
    "study = optuna.create_study(storage=\"sqlite:///bayesian_cookie.db\", study_name=\"bayesian-cookie-1\", load_if_exists=True, direction=\"maximize\")"
   ]
  },
  {
   "cell_type": "code",
   "execution_count": 5,
   "metadata": {
    "id": "d0hIXu1RJHKj"
   },
   "outputs": [],
   "source": [
    "search_space = define_search_space()\n",
    "trial = study.ask(fixed_distributions=search_space)"
   ]
  },
  {
   "cell_type": "code",
   "execution_count": 6,
   "metadata": {
    "colab": {
     "base_uri": "https://localhost:8080/"
    },
    "id": "aGELH21aJQSC",
    "outputId": "9fbeb7d7-2877-437e-f3f6-ea671b7c684a"
   },
   "outputs": [
    {
     "data": {
      "text/plain": [
       "{'chocolate_chip_type': 'dark',\n",
       " 'chocolate_chip': 214,\n",
       " 'baking_soda': 0.6875,\n",
       " 'butter': 167,\n",
       " 'egg': 31,\n",
       " 'salt': 0.875,\n",
       " 'sugar': 304,\n",
       " 'brown_sugar': 0.5551878664330968,\n",
       " 'vanilla': 0.625,\n",
       " 'orange': 0.0,\n",
       " 'cayenne_pepper': 0.0}"
      ]
     },
     "execution_count": 6,
     "metadata": {},
     "output_type": "execute_result"
    }
   ],
   "source": [
    "trial.params"
   ]
  },
  {
   "cell_type": "code",
   "execution_count": 7,
   "metadata": {},
   "outputs": [
    {
     "data": {
      "text/markdown": [
       "| 材料 | 単位 | 種類・量 |\n",
       "| --- | --- | --- |\n",
       "| 小麦粉 | グラム | 167.0 |\n",
       "| チョコチップの種類 | N/A | dark |\n",
       "| チョコチップ | グラム | 214.00 |\n",
       "| ベーキングパウダー | 小さじ | 0.69 |\n",
       "| 食塩 | 小さじ | 0.88 |\n",
       "| 唐辛子 | 小さじ | 0.00 |\n",
       "| ブラウンシュガー | グラム | 168.8 |\n",
       "| 白砂糖 | グラム | 135.2 |\n",
       "| たまご | グラム | 31.00 |\n",
       "| バター | グラム | 167.00 |\n",
       "| オレンジエッセンス | 小さじ | 0.00 |\n",
       "| バニラエッセンス | 小さじ | 0.62 |\n"
      ],
      "text/plain": [
       "<IPython.core.display.Markdown object>"
      ]
     },
     "execution_count": 7,
     "metadata": {},
     "output_type": "execute_result"
    }
   ],
   "source": [
    "# 読みやすいように表形式でレシピを表示します\n",
    "Markdown(create_recipe_table(trial.params))"
   ]
  },
  {
   "cell_type": "code",
   "execution_count": 8,
   "metadata": {
    "colab": {
     "base_uri": "https://localhost:8080/"
    },
    "id": "r5Bbco2CO5Sf",
    "outputId": "f193aa61-c87b-46e7-9e7b-91eee8a3bf6d"
   },
   "outputs": [
    {
     "data": {
      "text/plain": [
       "0"
      ]
     },
     "execution_count": 8,
     "metadata": {},
     "output_type": "execute_result"
    }
   ],
   "source": [
    "# このレシピに対する評価値を報告する際に、`trial.number` の値が必要になります。レシピと一緒にメモしておいてください。\n",
    "trial.number"
   ]
  },
  {
   "cell_type": "markdown",
   "metadata": {
    "id": "Z7flTpf6OcOa"
   },
   "source": [
    "### (オプショナル) 推薦されたレシピを修正する場合"
   ]
  },
  {
   "cell_type": "code",
   "execution_count": 9,
   "metadata": {
    "id": "Gjs6iTL4JRBq"
   },
   "outputs": [],
   "source": [
    "# suggestされたparamsを編集する場合には、上記の `trial.params` の値を修正して、 `modified_params` という辞書を作ります。\n",
    "modified_params = {\n",
    " 'baking_soda': 0.625,\n",
    " 'brown_sugar': 0.7280600317739677,\n",
    " 'butter': 83,\n",
    " 'cayenne_pepper': 0.375,\n",
    " 'chocolate_chip': 154,\n",
    " 'chocolate_chip_type': 'dark',\n",
    " 'egg': 26,\n",
    " 'orange': 0.25,\n",
    " 'salt': 0.375,\n",
    " 'sugar': 395,\n",
    " 'vanilla': 0.375   \n",
    "}"
   ]
  },
  {
   "cell_type": "code",
   "execution_count": 10,
   "metadata": {
    "colab": {
     "base_uri": "https://localhost:8080/"
    },
    "id": "u5asRNxmJ-NS",
    "outputId": "b977642c-051c-4f61-bd29-9ec1fcbcd6f1"
   },
   "outputs": [],
   "source": [
    "# 修正したparamsをOptunaに登録しなおします。\n",
    "study.tell(trial, state=optuna.trial.TrialState.FAIL)\n",
    "study.add_trial(\n",
    "    optuna.create_trial(\n",
    "        state=optuna.trial.TrialState.WAITING,\n",
    "        params=modified_params,\n",
    "        distributions=search_space,\n",
    "        user_attrs={\"manual\": True}\n",
    "    )\n",
    ")\n",
    "trial = study.ask(fixed_distributions=search_space)"
   ]
  },
  {
   "cell_type": "code",
   "execution_count": 11,
   "metadata": {
    "colab": {
     "base_uri": "https://localhost:8080/"
    },
    "id": "sv6oAhhmyyHp",
    "outputId": "cabfc79f-02ec-4d55-c887-f6724bea2c54"
   },
   "outputs": [
    {
     "data": {
      "text/markdown": [
       "| 材料 | 単位 | 種類・量 |\n",
       "| --- | --- | --- |\n",
       "| 小麦粉 | グラム | 167.0 |\n",
       "| チョコチップの種類 | N/A | dark |\n",
       "| チョコチップ | グラム | 154.00 |\n",
       "| ベーキングパウダー | 小さじ | 0.62 |\n",
       "| 食塩 | 小さじ | 0.38 |\n",
       "| 唐辛子 | 小さじ | 0.38 |\n",
       "| ブラウンシュガー | グラム | 287.6 |\n",
       "| 白砂糖 | グラム | 107.4 |\n",
       "| たまご | グラム | 26.00 |\n",
       "| バター | グラム | 83.00 |\n",
       "| オレンジエッセンス | 小さじ | 0.25 |\n",
       "| バニラエッセンス | 小さじ | 0.38 |\n"
      ],
      "text/plain": [
       "<IPython.core.display.Markdown object>"
      ]
     },
     "execution_count": 11,
     "metadata": {},
     "output_type": "execute_result"
    }
   ],
   "source": [
    "# 修正したparamsを確認します。\n",
    "Markdown(create_recipe_table(trial.params))"
   ]
  },
  {
   "cell_type": "markdown",
   "metadata": {
    "id": "TwlJeiroQ66u"
   },
   "source": [
    "## 2. レシピに基づいてクッキーを焼く\n",
    "\n",
    "Optunaで推薦されたレシピに基づいて、クッキーを焼きましょう。\n",
    "推薦された材料のほかに、小麦粉167gが必要になります。\n",
    "\n",
    "### 生地の作り方\n",
    "\n",
    "1. 小麦粉、ベーキングパウダー、カイエンペッパー、食塩を混ぜ合わせます\n",
    "2. （冷蔵庫から取り出したばかりの）バターとたまご、バニラエッセンス、オレンジエッセンスを、クリーム状になるまで(約２分間)ミキサーで混ぜます\n",
    "3. 1と2を均一になるまで混ぜ合わせます。混ぜすぎないように注意。\n",
    "4. (必要に応じて)生地を冷蔵庫で休ませます\n",
    "5. スプーンですくって、オーブン用ペーパーの上に並べたら生地は出来上がりです\n",
    "\n",
    "### 焼き方\n",
    "\n",
    "生地をオーブンで焼きましょう。オーブンの温度と時間は175度で14分が基準になっています。\n",
    "ただし、オーブンはメーカーや機種によって焼き上がりが異なります。\n",
    "ご自分の家のオーブンに合わせて温度や時間を調整してください。"
   ]
  },
  {
   "cell_type": "code",
   "execution_count": 12,
   "metadata": {
    "colab": {
     "base_uri": "https://localhost:8080/",
     "height": 292
    },
    "id": "I2ZBVeZSan3x",
    "outputId": "7f2427e1-746b-408d-b21c-656b976d1221"
   },
   "outputs": [
    {
     "data": {
      "text/markdown": [
       "| 材料 | 単位 | 種類・量 |\n",
       "| --- | --- | --- |\n",
       "| 小麦粉 | グラム | 167.0 |\n",
       "| チョコチップの種類 | N/A | dark |\n",
       "| チョコチップ | グラム | 154.00 |\n",
       "| ベーキングパウダー | 小さじ | 0.62 |\n",
       "| 食塩 | 小さじ | 0.38 |\n",
       "| 唐辛子 | 小さじ | 0.38 |\n",
       "| ブラウンシュガー | グラム | 287.6 |\n",
       "| 白砂糖 | グラム | 107.4 |\n",
       "| たまご | グラム | 26.00 |\n",
       "| バター | グラム | 83.00 |\n",
       "| オレンジエッセンス | 小さじ | 0.25 |\n",
       "| バニラエッセンス | 小さじ | 0.38 |\n"
      ],
      "text/plain": [
       "<IPython.core.display.Markdown object>"
      ]
     },
     "execution_count": 12,
     "metadata": {},
     "output_type": "execute_result"
    }
   ],
   "source": [
    "Markdown(create_recipe_table(trial.params))"
   ]
  },
  {
   "cell_type": "markdown",
   "metadata": {
    "id": "H9PZXzjP1zXQ"
   },
   "source": [
    "## 3. クッキーの評価値をOptunaに報告\n",
    "\n",
    "評価基準は下記です。点が大きいほど、よい評価になっています。\n",
    "\n",
    "1.   まずい。二度と作らないでほしい\n",
    "2.   美味しくない。もっと美味しいクッキーがたくさんある\n",
    "3.   まずまずだけど、印象的ではない\n",
    "4.   おいしいクッキーだけど、特筆すべきものではない\n",
    "5.   とても美味しいクッキー\n",
    "6.   すばらしい。群を抜いている\n",
    "7.   これまでに食べた中で最高に近いチョコチップクッキー\n",
    "\n",
    "レシピの評価値を次のセルの `objective_value` に入力して登録しましょう。\n"
   ]
  },
  {
   "cell_type": "code",
   "execution_count": 13,
   "metadata": {
    "id": "P99ECmFt0ALB"
   },
   "outputs": [],
   "source": [
    "# objective_valueの値を1から7で指定してください\n",
    "objective_value = 4"
   ]
  },
  {
   "cell_type": "code",
   "execution_count": 14,
   "metadata": {
    "id": "yOUneclAzNpM"
   },
   "outputs": [
    {
     "data": {
      "text/plain": [
       "FrozenTrial(number=1, values=[4.0], datetime_start=datetime.datetime(2022, 11, 8, 3, 10, 2, 950938), datetime_complete=datetime.datetime(2022, 11, 8, 3, 10, 9, 11841), params={'baking_soda': 0.625, 'brown_sugar': 0.7280600317739677, 'butter': 83, 'cayenne_pepper': 0.375, 'chocolate_chip': 154, 'chocolate_chip_type': 'dark', 'egg': 26, 'orange': 0.25, 'salt': 0.375, 'sugar': 395, 'vanilla': 0.375}, distributions={'baking_soda': FloatDistribution(high=0.6875, log=False, low=0.0625, step=0.0625), 'brown_sugar': FloatDistribution(high=1.0, log=False, low=0.0, step=None), 'butter': IntDistribution(high=175, log=False, low=45, step=1), 'cayenne_pepper': FloatDistribution(high=0.5, log=False, low=0.0, step=0.125), 'chocolate_chip': IntDistribution(high=260, log=False, low=84, step=1), 'chocolate_chip_type': CategoricalDistribution(choices=('dark', 'milk')), 'egg': IntDistribution(high=35, log=False, low=25, step=1), 'orange': FloatDistribution(high=0.75, log=False, low=0.0, step=0.125), 'salt': FloatDistribution(high=1.0, log=False, low=0.25, step=0.125), 'sugar': IntDistribution(high=500, log=False, low=90, step=1), 'vanilla': FloatDistribution(high=1.25, log=False, low=0.0, step=0.125)}, user_attrs={'manual': True}, system_attrs={}, intermediate_values={}, trial_id=2, state=TrialState.COMPLETE, value=None)"
      ]
     },
     "execution_count": 14,
     "metadata": {},
     "output_type": "execute_result"
    }
   ],
   "source": [
    "# このセルを実行すると、評価値がoptunaに報告されます。\n",
    "study.tell(trial, values=objective_value)"
   ]
  },
  {
   "cell_type": "code",
   "execution_count": 15,
   "metadata": {
    "id": "IR0tDC-TPh3u"
   },
   "outputs": [
    {
     "data": {
      "text/html": [
       "<div>\n",
       "<style scoped>\n",
       "    .dataframe tbody tr th:only-of-type {\n",
       "        vertical-align: middle;\n",
       "    }\n",
       "\n",
       "    .dataframe tbody tr th {\n",
       "        vertical-align: top;\n",
       "    }\n",
       "\n",
       "    .dataframe thead th {\n",
       "        text-align: right;\n",
       "    }\n",
       "</style>\n",
       "<table border=\"1\" class=\"dataframe\">\n",
       "  <thead>\n",
       "    <tr style=\"text-align: right;\">\n",
       "      <th></th>\n",
       "      <th>number</th>\n",
       "      <th>value</th>\n",
       "      <th>datetime_start</th>\n",
       "      <th>datetime_complete</th>\n",
       "      <th>duration</th>\n",
       "      <th>params_baking_soda</th>\n",
       "      <th>params_brown_sugar</th>\n",
       "      <th>params_butter</th>\n",
       "      <th>params_cayenne_pepper</th>\n",
       "      <th>params_chocolate_chip</th>\n",
       "      <th>params_chocolate_chip_type</th>\n",
       "      <th>params_egg</th>\n",
       "      <th>params_orange</th>\n",
       "      <th>params_salt</th>\n",
       "      <th>params_sugar</th>\n",
       "      <th>params_vanilla</th>\n",
       "      <th>user_attrs_manual</th>\n",
       "      <th>state</th>\n",
       "    </tr>\n",
       "  </thead>\n",
       "  <tbody>\n",
       "    <tr>\n",
       "      <th>0</th>\n",
       "      <td>0</td>\n",
       "      <td>NaN</td>\n",
       "      <td>2022-11-08 03:09:58.821597</td>\n",
       "      <td>2022-11-08 03:10:02.906185</td>\n",
       "      <td>0 days 00:00:04.084588</td>\n",
       "      <td>0.6875</td>\n",
       "      <td>0.555188</td>\n",
       "      <td>167</td>\n",
       "      <td>0.000</td>\n",
       "      <td>214</td>\n",
       "      <td>dark</td>\n",
       "      <td>31</td>\n",
       "      <td>0.00</td>\n",
       "      <td>0.875</td>\n",
       "      <td>304</td>\n",
       "      <td>0.625</td>\n",
       "      <td>NaN</td>\n",
       "      <td>FAIL</td>\n",
       "    </tr>\n",
       "    <tr>\n",
       "      <th>1</th>\n",
       "      <td>1</td>\n",
       "      <td>4.0</td>\n",
       "      <td>2022-11-08 03:10:02.950938</td>\n",
       "      <td>2022-11-08 03:10:09.011841</td>\n",
       "      <td>0 days 00:00:06.060903</td>\n",
       "      <td>0.6250</td>\n",
       "      <td>0.728060</td>\n",
       "      <td>83</td>\n",
       "      <td>0.375</td>\n",
       "      <td>154</td>\n",
       "      <td>dark</td>\n",
       "      <td>26</td>\n",
       "      <td>0.25</td>\n",
       "      <td>0.375</td>\n",
       "      <td>395</td>\n",
       "      <td>0.375</td>\n",
       "      <td>True</td>\n",
       "      <td>COMPLETE</td>\n",
       "    </tr>\n",
       "  </tbody>\n",
       "</table>\n",
       "</div>"
      ],
      "text/plain": [
       "   number  value             datetime_start          datetime_complete  \\\n",
       "0       0    NaN 2022-11-08 03:09:58.821597 2022-11-08 03:10:02.906185   \n",
       "1       1    4.0 2022-11-08 03:10:02.950938 2022-11-08 03:10:09.011841   \n",
       "\n",
       "                duration  params_baking_soda  params_brown_sugar  \\\n",
       "0 0 days 00:00:04.084588              0.6875            0.555188   \n",
       "1 0 days 00:00:06.060903              0.6250            0.728060   \n",
       "\n",
       "   params_butter  params_cayenne_pepper  params_chocolate_chip  \\\n",
       "0            167                  0.000                    214   \n",
       "1             83                  0.375                    154   \n",
       "\n",
       "  params_chocolate_chip_type  params_egg  params_orange  params_salt  \\\n",
       "0                       dark          31           0.00        0.875   \n",
       "1                       dark          26           0.25        0.375   \n",
       "\n",
       "   params_sugar  params_vanilla user_attrs_manual     state  \n",
       "0           304           0.625               NaN      FAIL  \n",
       "1           395           0.375              True  COMPLETE  "
      ]
     },
     "execution_count": 15,
     "metadata": {},
     "output_type": "execute_result"
    }
   ],
   "source": [
    "# もし `trial_number` を忘れてしまった場合には、下記の一覧表から該当するレシピを探しましょう\n",
    "study.trials_dataframe()"
   ]
  },
  {
   "cell_type": "markdown",
   "metadata": {},
   "source": [
    "## 4. ステップ1. Optunaによるレシピの提案に戻る\n",
    "\n",
    "以上で1つのクッキーレシピの提案、試作、評価が終了しました。\n",
    "ステップ1のOptunaによるレシピの提案に戻って新しいクッキーレシピを試しましょう。"
   ]
  },
  {
   "cell_type": "markdown",
   "metadata": {
    "id": "CwRtSIpc43U-"
   },
   "source": [
    "## 付録: 既存のレシピとその評価値の入力\n",
    "\n",
    "Bayesian Cookieの元論文には、複数のレシピが掲載されています。\n",
    "以下では各レシピを表示し、レシピに対する評価値を追加できるようにしました。"
   ]
  },
  {
   "cell_type": "markdown",
   "metadata": {},
   "source": [
    "### コントロールクッキー"
   ]
  },
  {
   "cell_type": "code",
   "execution_count": 18,
   "metadata": {
    "id": "XiBQbkLA1nsL"
   },
   "outputs": [
    {
     "data": {
      "text/markdown": [
       "| 材料 | 単位 | 種類・量 |\n",
       "| --- | --- | --- |\n",
       "| 小麦粉 | グラム | 167.0 |\n",
       "| チョコチップの種類 | N/A | milk |\n",
       "| チョコチップ | グラム | 160.00 |\n",
       "| ベーキングパウダー | 小さじ | 0.50 |\n",
       "| 食塩 | 小さじ | 0.25 |\n",
       "| 唐辛子 | 小さじ | 0.00 |\n",
       "| ブラウンシュガー | グラム | 150.0 |\n",
       "| 白砂糖 | グラム | 150.0 |\n",
       "| たまご | グラム | 30.00 |\n",
       "| バター | グラム | 125.00 |\n",
       "| オレンジエッセンス | 小さじ | 0.00 |\n",
       "| バニラエッセンス | 小さじ | 0.50 |\n"
      ],
      "text/plain": [
       "<IPython.core.display.Markdown object>"
      ]
     },
     "execution_count": 18,
     "metadata": {},
     "output_type": "execute_result"
    }
   ],
   "source": [
    "control_cookie_params = dict(\n",
    "    # チョコチップの種類\n",
    "    chocolate_chip_type = \"milk\",\n",
    "\n",
    "    # チョコチップの量。単位はグラム。\n",
    "    chocolate_chip = 160,\n",
    "\n",
    "    # ベーキングパウダーの量。単位は小さじ。1/8きざみ\n",
    "    baking_soda = 1 / 2,\n",
    "\n",
    "    # バターの量。単位はグラム。\n",
    "    butter = 125,\n",
    "\n",
    "    # たまごの量。単位はグラム。\n",
    "    egg = 30,\n",
    "\n",
    "    # 食塩の量。単位は小さじ。1/8きざみ\n",
    "    salt = 1 / 4,\n",
    "\n",
    "    # 砂糖の総量。単位はグラム\n",
    "    sugar = 300,\n",
    "\n",
    "    # ブラウンシュガーの割合。単位は%。残りは白砂糖。\n",
    "    brown_sugar = 0.5,\n",
    "\n",
    "    # バニラエッセンスの量。単位は小さじ。 1/8きざみ\n",
    "    vanilla = 1 / 2,\n",
    "\n",
    "    # オレンジエッセンスの量。単位は小さじ。1/8きざみ\n",
    "    orange = 0,\n",
    "\n",
    "    # カイエンペッパーの量。単位は小さじ。1/8きざみ\n",
    "    cayenne_pepper = 0,\n",
    ")\n",
    "Markdown( create_recipe_table(control_cookie_params))"
   ]
  },
  {
   "cell_type": "code",
   "execution_count": 19,
   "metadata": {},
   "outputs": [],
   "source": [
    "# コントロールクッキーの評価値を1から7で指定\n",
    "control_cookie_objective_value = 4"
   ]
  },
  {
   "cell_type": "code",
   "execution_count": 20,
   "metadata": {},
   "outputs": [],
   "source": [
    "# このセルを実行するとコントロールクッキーの評価値が登録されます\n",
    "study.add_trial(\n",
    "    optuna.create_trial(\n",
    "        state=optuna.trial.TrialState.COMPLETE,\n",
    "        params=control_cookie_params,\n",
    "        distributions=search_space,\n",
    "        user_attrs={\"recipe\": \"control\"},\n",
    "        value=control_cookie_objective_value\n",
    "    )\n",
    ")"
   ]
  },
  {
   "cell_type": "markdown",
   "metadata": {},
   "source": [
    "### ピッツバーグクッキー"
   ]
  },
  {
   "cell_type": "code",
   "execution_count": 21,
   "metadata": {
    "id": "d0AHiEaQ8GSP"
   },
   "outputs": [
    {
     "data": {
      "text/markdown": [
       "| 材料 | 単位 | 種類・量 |\n",
       "| --- | --- | --- |\n",
       "| 小麦粉 | グラム | 167.0 |\n",
       "| チョコチップの種類 | N/A | dark |\n",
       "| チョコチップ | グラム | 196.00 |\n",
       "| ベーキングパウダー | 小さじ | 0.50 |\n",
       "| 食塩 | 小さじ | 0.25 |\n",
       "| 唐辛子 | 小さじ | 0.25 |\n",
       "| ブラウンシュガー | グラム | 95.0 |\n",
       "| 白砂糖 | グラム | 13.0 |\n",
       "| たまご | グラム | 30.00 |\n",
       "| バター | グラム | 129.00 |\n",
       "| オレンジエッセンス | 小さじ | 0.38 |\n",
       "| バニラエッセンス | 小さじ | 0.50 |\n"
      ],
      "text/plain": [
       "<IPython.core.display.Markdown object>"
      ]
     },
     "execution_count": 21,
     "metadata": {},
     "output_type": "execute_result"
    }
   ],
   "source": [
    "pittsburgh_cookie_params = dict(\n",
    "    # ョコチップの種類\n",
    "    chocolate_chip_type = \"dark\",\n",
    "\n",
    "    # チョコチップの量。単位はグラム。\n",
    "    chocolate_chip = 196,\n",
    "\n",
    "    # ベーキングパウダーの量。単位は小さじ。1/8きざみ\n",
    "    baking_soda = 1 / 2,\n",
    "\n",
    "    # バターの量。単位はグラム。\n",
    "    butter = 129,\n",
    "\n",
    "    # たまごの量。単位はグラム。\n",
    "    egg = 30,\n",
    "\n",
    "    # 食塩の量。単位は小さじ。1/8きざみ\n",
    "    salt = 1 / 4,\n",
    "\n",
    "    # 砂糖の総量。単位はグラム\n",
    "    sugar = 108,\n",
    "\n",
    "    # ブラウンシュガーの割合。単位は%。残りは白砂糖。\n",
    "    brown_sugar = 0.88,\n",
    "\n",
    "    # バニラエッセンスの量。単位は小さじ。 1/8きざみ\n",
    "    vanilla = 1 / 2,\n",
    "\n",
    "    # オレンジエッセンスの量。単位は小さじ。1/8きざみ\n",
    "    orange = 3 / 8,\n",
    "\n",
    "    # カイエンペッパーの量。単位は小さじ。1/8きざみ\n",
    "    cayenne_pepper = 1 / 4\n",
    ")\n",
    "Markdown( create_recipe_table(pittsburgh_cookie_params))"
   ]
  },
  {
   "cell_type": "code",
   "execution_count": 22,
   "metadata": {},
   "outputs": [],
   "source": [
    "# ピッツバーグクッキーの評価値を1から7で指定\n",
    "pittsburgh_cookie_objective_value = 6"
   ]
  },
  {
   "cell_type": "code",
   "execution_count": 23,
   "metadata": {},
   "outputs": [],
   "source": [
    "study.add_trial(\n",
    "    optuna.create_trial(\n",
    "        state=optuna.trial.TrialState.COMPLETE,\n",
    "        params=pittsburgh_cookie_params,\n",
    "        distributions=search_space,\n",
    "        user_attrs={\"recipe\": \"pittsburgh\"},\n",
    "        value=pittsburgh_cookie_objective_value\n",
    "    )\n",
    ")"
   ]
  },
  {
   "cell_type": "markdown",
   "metadata": {},
   "source": [
    "### カリフォルニアクッキー"
   ]
  },
  {
   "cell_type": "code",
   "execution_count": 24,
   "metadata": {
    "id": "XU8S6srRAfXB"
   },
   "outputs": [
    {
     "data": {
      "text/markdown": [
       "| 材料 | 単位 | 種類・量 |\n",
       "| --- | --- | --- |\n",
       "| 小麦粉 | グラム | 167.0 |\n",
       "| チョコチップの種類 | N/A | milk |\n",
       "| チョコチップ | グラム | 245.00 |\n",
       "| ベーキングパウダー | 小さじ | 0.62 |\n",
       "| 食塩 | 小さじ | 0.50 |\n",
       "| 唐辛子 | 小さじ | 0.12 |\n",
       "| ブラウンシュガー | グラム | 39.4 |\n",
       "| 白砂糖 | グラム | 87.6 |\n",
       "| たまご | グラム | 26.00 |\n",
       "| バター | グラム | 81.00 |\n",
       "| オレンジエッセンス | 小さじ | 0.12 |\n",
       "| バニラエッセンス | 小さじ | 0.75 |\n"
      ],
      "text/plain": [
       "<IPython.core.display.Markdown object>"
      ]
     },
     "execution_count": 24,
     "metadata": {},
     "output_type": "execute_result"
    }
   ],
   "source": [
    "# たまごとバターの量は、小数点以下を四捨五入してあります。\n",
    "# 正確にはたまご25.7g、バター81.3gです。\n",
    "\n",
    "california_cookie_params = dict(\n",
    "\n",
    "    # チョコチップの種類\n",
    "    chocolate_chip_type = \"milk\",\n",
    "\n",
    "    # チョコチップの量。単位はグラム。\n",
    "    chocolate_chip = 245,\n",
    "\n",
    "    # ベーキングパウダーの量。単位は小さじ。1/8きざみ\n",
    "    baking_soda = 5 / 8,\n",
    "\n",
    "    # バターの量。単位はグラム。\n",
    "    butter = 81,\n",
    "\n",
    "    # たまごの量。単位はグラム。\n",
    "    egg = 26,\n",
    "\n",
    "    # 食塩の量。単位は小さじ。1/8きざみ\n",
    "    salt = 1 / 2,\n",
    "\n",
    "    # 砂糖の総量。単位はグラム\n",
    "    sugar = 127,\n",
    "\n",
    "    # ブラウンシュガーの割合。単位は%。残りは白砂糖。\n",
    "    brown_sugar = 0.31,\n",
    "\n",
    "    # バニラエッセンスの量。単位は小さじ。 1/8きざみ\n",
    "    vanilla = 3 / 4,\n",
    "\n",
    "    # オレンジエッセンスの量。単位は小さじ。1/8きざみ\n",
    "    orange = 1 / 8,\n",
    "\n",
    "    # カイエンペッパーの量。単位は小さじ。1/8きざみ\n",
    "    cayenne_pepper = 1 / 8,\n",
    ")\n",
    "Markdown(create_recipe_table(california_cookie_params))"
   ]
  },
  {
   "cell_type": "code",
   "execution_count": 25,
   "metadata": {},
   "outputs": [],
   "source": [
    "# カリフォルニアクッキーの評価値を1から7で指定\n",
    "california_cookie_objective_value = 6"
   ]
  },
  {
   "cell_type": "code",
   "execution_count": 26,
   "metadata": {},
   "outputs": [],
   "source": [
    "study.add_trial(\n",
    "    optuna.create_trial(\n",
    "        state=optuna.trial.TrialState.COMPLETE,\n",
    "        params=california_cookie_params,\n",
    "        distributions=search_space,\n",
    "        user_attrs={\"recipe\": \"california\"},\n",
    "        value=california_cookie_objective_value,\n",
    "    )\n",
    ")"
   ]
  },
  {
   "cell_type": "code",
   "execution_count": 27,
   "metadata": {},
   "outputs": [
    {
     "data": {
      "text/html": [
       "<div>\n",
       "<style scoped>\n",
       "    .dataframe tbody tr th:only-of-type {\n",
       "        vertical-align: middle;\n",
       "    }\n",
       "\n",
       "    .dataframe tbody tr th {\n",
       "        vertical-align: top;\n",
       "    }\n",
       "\n",
       "    .dataframe thead th {\n",
       "        text-align: right;\n",
       "    }\n",
       "</style>\n",
       "<table border=\"1\" class=\"dataframe\">\n",
       "  <thead>\n",
       "    <tr style=\"text-align: right;\">\n",
       "      <th></th>\n",
       "      <th>number</th>\n",
       "      <th>value</th>\n",
       "      <th>datetime_start</th>\n",
       "      <th>datetime_complete</th>\n",
       "      <th>duration</th>\n",
       "      <th>params_baking_soda</th>\n",
       "      <th>params_brown_sugar</th>\n",
       "      <th>params_butter</th>\n",
       "      <th>params_cayenne_pepper</th>\n",
       "      <th>params_chocolate_chip</th>\n",
       "      <th>params_chocolate_chip_type</th>\n",
       "      <th>params_egg</th>\n",
       "      <th>params_orange</th>\n",
       "      <th>params_salt</th>\n",
       "      <th>params_sugar</th>\n",
       "      <th>params_vanilla</th>\n",
       "      <th>user_attrs_manual</th>\n",
       "      <th>user_attrs_recipe</th>\n",
       "      <th>state</th>\n",
       "    </tr>\n",
       "  </thead>\n",
       "  <tbody>\n",
       "    <tr>\n",
       "      <th>0</th>\n",
       "      <td>0</td>\n",
       "      <td>NaN</td>\n",
       "      <td>2022-11-08 03:09:58.821597</td>\n",
       "      <td>2022-11-08 03:10:02.906185</td>\n",
       "      <td>0 days 00:00:04.084588</td>\n",
       "      <td>0.6875</td>\n",
       "      <td>0.555188</td>\n",
       "      <td>167</td>\n",
       "      <td>0.000</td>\n",
       "      <td>214</td>\n",
       "      <td>dark</td>\n",
       "      <td>31</td>\n",
       "      <td>0.000</td>\n",
       "      <td>0.875</td>\n",
       "      <td>304</td>\n",
       "      <td>0.625</td>\n",
       "      <td>NaN</td>\n",
       "      <td>NaN</td>\n",
       "      <td>FAIL</td>\n",
       "    </tr>\n",
       "    <tr>\n",
       "      <th>1</th>\n",
       "      <td>1</td>\n",
       "      <td>4.0</td>\n",
       "      <td>2022-11-08 03:10:02.950938</td>\n",
       "      <td>2022-11-08 03:10:09.011841</td>\n",
       "      <td>0 days 00:00:06.060903</td>\n",
       "      <td>0.6250</td>\n",
       "      <td>0.728060</td>\n",
       "      <td>83</td>\n",
       "      <td>0.375</td>\n",
       "      <td>154</td>\n",
       "      <td>dark</td>\n",
       "      <td>26</td>\n",
       "      <td>0.250</td>\n",
       "      <td>0.375</td>\n",
       "      <td>395</td>\n",
       "      <td>0.375</td>\n",
       "      <td>True</td>\n",
       "      <td>NaN</td>\n",
       "      <td>COMPLETE</td>\n",
       "    </tr>\n",
       "    <tr>\n",
       "      <th>2</th>\n",
       "      <td>2</td>\n",
       "      <td>4.0</td>\n",
       "      <td>2022-11-08 03:10:21.752748</td>\n",
       "      <td>2022-11-08 03:10:21.752748</td>\n",
       "      <td>0 days 00:00:00</td>\n",
       "      <td>0.5000</td>\n",
       "      <td>0.500000</td>\n",
       "      <td>125</td>\n",
       "      <td>0.000</td>\n",
       "      <td>160</td>\n",
       "      <td>milk</td>\n",
       "      <td>30</td>\n",
       "      <td>0.000</td>\n",
       "      <td>0.250</td>\n",
       "      <td>300</td>\n",
       "      <td>0.500</td>\n",
       "      <td>NaN</td>\n",
       "      <td>control</td>\n",
       "      <td>COMPLETE</td>\n",
       "    </tr>\n",
       "    <tr>\n",
       "      <th>3</th>\n",
       "      <td>3</td>\n",
       "      <td>6.0</td>\n",
       "      <td>2022-11-08 03:10:24.023883</td>\n",
       "      <td>2022-11-08 03:10:24.023883</td>\n",
       "      <td>0 days 00:00:00</td>\n",
       "      <td>0.5000</td>\n",
       "      <td>0.880000</td>\n",
       "      <td>129</td>\n",
       "      <td>0.250</td>\n",
       "      <td>196</td>\n",
       "      <td>dark</td>\n",
       "      <td>30</td>\n",
       "      <td>0.375</td>\n",
       "      <td>0.250</td>\n",
       "      <td>108</td>\n",
       "      <td>0.500</td>\n",
       "      <td>NaN</td>\n",
       "      <td>pittsburgh</td>\n",
       "      <td>COMPLETE</td>\n",
       "    </tr>\n",
       "    <tr>\n",
       "      <th>4</th>\n",
       "      <td>4</td>\n",
       "      <td>6.0</td>\n",
       "      <td>2022-11-08 03:10:26.775965</td>\n",
       "      <td>2022-11-08 03:10:26.775965</td>\n",
       "      <td>0 days 00:00:00</td>\n",
       "      <td>0.6250</td>\n",
       "      <td>0.310000</td>\n",
       "      <td>81</td>\n",
       "      <td>0.125</td>\n",
       "      <td>245</td>\n",
       "      <td>milk</td>\n",
       "      <td>26</td>\n",
       "      <td>0.125</td>\n",
       "      <td>0.500</td>\n",
       "      <td>127</td>\n",
       "      <td>0.750</td>\n",
       "      <td>NaN</td>\n",
       "      <td>california</td>\n",
       "      <td>COMPLETE</td>\n",
       "    </tr>\n",
       "  </tbody>\n",
       "</table>\n",
       "</div>"
      ],
      "text/plain": [
       "   number  value             datetime_start          datetime_complete  \\\n",
       "0       0    NaN 2022-11-08 03:09:58.821597 2022-11-08 03:10:02.906185   \n",
       "1       1    4.0 2022-11-08 03:10:02.950938 2022-11-08 03:10:09.011841   \n",
       "2       2    4.0 2022-11-08 03:10:21.752748 2022-11-08 03:10:21.752748   \n",
       "3       3    6.0 2022-11-08 03:10:24.023883 2022-11-08 03:10:24.023883   \n",
       "4       4    6.0 2022-11-08 03:10:26.775965 2022-11-08 03:10:26.775965   \n",
       "\n",
       "                duration  params_baking_soda  params_brown_sugar  \\\n",
       "0 0 days 00:00:04.084588              0.6875            0.555188   \n",
       "1 0 days 00:00:06.060903              0.6250            0.728060   \n",
       "2        0 days 00:00:00              0.5000            0.500000   \n",
       "3        0 days 00:00:00              0.5000            0.880000   \n",
       "4        0 days 00:00:00              0.6250            0.310000   \n",
       "\n",
       "   params_butter  params_cayenne_pepper  params_chocolate_chip  \\\n",
       "0            167                  0.000                    214   \n",
       "1             83                  0.375                    154   \n",
       "2            125                  0.000                    160   \n",
       "3            129                  0.250                    196   \n",
       "4             81                  0.125                    245   \n",
       "\n",
       "  params_chocolate_chip_type  params_egg  params_orange  params_salt  \\\n",
       "0                       dark          31          0.000        0.875   \n",
       "1                       dark          26          0.250        0.375   \n",
       "2                       milk          30          0.000        0.250   \n",
       "3                       dark          30          0.375        0.250   \n",
       "4                       milk          26          0.125        0.500   \n",
       "\n",
       "   params_sugar  params_vanilla user_attrs_manual user_attrs_recipe     state  \n",
       "0           304           0.625               NaN               NaN      FAIL  \n",
       "1           395           0.375              True               NaN  COMPLETE  \n",
       "2           300           0.500               NaN           control  COMPLETE  \n",
       "3           108           0.500               NaN        pittsburgh  COMPLETE  \n",
       "4           127           0.750               NaN        california  COMPLETE  "
      ]
     },
     "execution_count": 27,
     "metadata": {},
     "output_type": "execute_result"
    }
   ],
   "source": [
    "# 結果の確認\n",
    "study.trials_dataframe()"
   ]
  },
  {
   "cell_type": "markdown",
   "metadata": {
    "id": "c8ejwGcGBxhH"
   },
   "source": [
    "## 付録: 結果の可視化"
   ]
  },
  {
   "cell_type": "code",
   "execution_count": 28,
   "metadata": {
    "colab": {
     "base_uri": "https://localhost:8080/",
     "height": 168
    },
    "id": "-uLZcfkI1gEq",
    "outputId": "45c6152e-54fe-4a5a-e28d-ac60fc75cd2e"
   },
   "outputs": [
    {
     "data": {
      "application/vnd.plotly.v1+json": {
       "config": {
        "plotlyServerURL": "https://plot.ly"
       },
       "data": [
        {
         "mode": "markers",
         "name": "Objective Value",
         "type": "scatter",
         "x": [
          1,
          2,
          3,
          4
         ],
         "y": [
          4,
          4,
          6,
          6
         ]
        },
        {
         "name": "Best Value",
         "type": "scatter",
         "x": [
          1,
          2,
          3,
          4
         ],
         "y": [
          4,
          4,
          6,
          6
         ]
        }
       ],
       "layout": {
        "template": {
         "data": {
          "bar": [
           {
            "error_x": {
             "color": "#2a3f5f"
            },
            "error_y": {
             "color": "#2a3f5f"
            },
            "marker": {
             "line": {
              "color": "#E5ECF6",
              "width": 0.5
             },
             "pattern": {
              "fillmode": "overlay",
              "size": 10,
              "solidity": 0.2
             }
            },
            "type": "bar"
           }
          ],
          "barpolar": [
           {
            "marker": {
             "line": {
              "color": "#E5ECF6",
              "width": 0.5
             },
             "pattern": {
              "fillmode": "overlay",
              "size": 10,
              "solidity": 0.2
             }
            },
            "type": "barpolar"
           }
          ],
          "carpet": [
           {
            "aaxis": {
             "endlinecolor": "#2a3f5f",
             "gridcolor": "white",
             "linecolor": "white",
             "minorgridcolor": "white",
             "startlinecolor": "#2a3f5f"
            },
            "baxis": {
             "endlinecolor": "#2a3f5f",
             "gridcolor": "white",
             "linecolor": "white",
             "minorgridcolor": "white",
             "startlinecolor": "#2a3f5f"
            },
            "type": "carpet"
           }
          ],
          "choropleth": [
           {
            "colorbar": {
             "outlinewidth": 0,
             "ticks": ""
            },
            "type": "choropleth"
           }
          ],
          "contour": [
           {
            "colorbar": {
             "outlinewidth": 0,
             "ticks": ""
            },
            "colorscale": [
             [
              0,
              "#0d0887"
             ],
             [
              0.1111111111111111,
              "#46039f"
             ],
             [
              0.2222222222222222,
              "#7201a8"
             ],
             [
              0.3333333333333333,
              "#9c179e"
             ],
             [
              0.4444444444444444,
              "#bd3786"
             ],
             [
              0.5555555555555556,
              "#d8576b"
             ],
             [
              0.6666666666666666,
              "#ed7953"
             ],
             [
              0.7777777777777778,
              "#fb9f3a"
             ],
             [
              0.8888888888888888,
              "#fdca26"
             ],
             [
              1,
              "#f0f921"
             ]
            ],
            "type": "contour"
           }
          ],
          "contourcarpet": [
           {
            "colorbar": {
             "outlinewidth": 0,
             "ticks": ""
            },
            "type": "contourcarpet"
           }
          ],
          "heatmap": [
           {
            "colorbar": {
             "outlinewidth": 0,
             "ticks": ""
            },
            "colorscale": [
             [
              0,
              "#0d0887"
             ],
             [
              0.1111111111111111,
              "#46039f"
             ],
             [
              0.2222222222222222,
              "#7201a8"
             ],
             [
              0.3333333333333333,
              "#9c179e"
             ],
             [
              0.4444444444444444,
              "#bd3786"
             ],
             [
              0.5555555555555556,
              "#d8576b"
             ],
             [
              0.6666666666666666,
              "#ed7953"
             ],
             [
              0.7777777777777778,
              "#fb9f3a"
             ],
             [
              0.8888888888888888,
              "#fdca26"
             ],
             [
              1,
              "#f0f921"
             ]
            ],
            "type": "heatmap"
           }
          ],
          "heatmapgl": [
           {
            "colorbar": {
             "outlinewidth": 0,
             "ticks": ""
            },
            "colorscale": [
             [
              0,
              "#0d0887"
             ],
             [
              0.1111111111111111,
              "#46039f"
             ],
             [
              0.2222222222222222,
              "#7201a8"
             ],
             [
              0.3333333333333333,
              "#9c179e"
             ],
             [
              0.4444444444444444,
              "#bd3786"
             ],
             [
              0.5555555555555556,
              "#d8576b"
             ],
             [
              0.6666666666666666,
              "#ed7953"
             ],
             [
              0.7777777777777778,
              "#fb9f3a"
             ],
             [
              0.8888888888888888,
              "#fdca26"
             ],
             [
              1,
              "#f0f921"
             ]
            ],
            "type": "heatmapgl"
           }
          ],
          "histogram": [
           {
            "marker": {
             "pattern": {
              "fillmode": "overlay",
              "size": 10,
              "solidity": 0.2
             }
            },
            "type": "histogram"
           }
          ],
          "histogram2d": [
           {
            "colorbar": {
             "outlinewidth": 0,
             "ticks": ""
            },
            "colorscale": [
             [
              0,
              "#0d0887"
             ],
             [
              0.1111111111111111,
              "#46039f"
             ],
             [
              0.2222222222222222,
              "#7201a8"
             ],
             [
              0.3333333333333333,
              "#9c179e"
             ],
             [
              0.4444444444444444,
              "#bd3786"
             ],
             [
              0.5555555555555556,
              "#d8576b"
             ],
             [
              0.6666666666666666,
              "#ed7953"
             ],
             [
              0.7777777777777778,
              "#fb9f3a"
             ],
             [
              0.8888888888888888,
              "#fdca26"
             ],
             [
              1,
              "#f0f921"
             ]
            ],
            "type": "histogram2d"
           }
          ],
          "histogram2dcontour": [
           {
            "colorbar": {
             "outlinewidth": 0,
             "ticks": ""
            },
            "colorscale": [
             [
              0,
              "#0d0887"
             ],
             [
              0.1111111111111111,
              "#46039f"
             ],
             [
              0.2222222222222222,
              "#7201a8"
             ],
             [
              0.3333333333333333,
              "#9c179e"
             ],
             [
              0.4444444444444444,
              "#bd3786"
             ],
             [
              0.5555555555555556,
              "#d8576b"
             ],
             [
              0.6666666666666666,
              "#ed7953"
             ],
             [
              0.7777777777777778,
              "#fb9f3a"
             ],
             [
              0.8888888888888888,
              "#fdca26"
             ],
             [
              1,
              "#f0f921"
             ]
            ],
            "type": "histogram2dcontour"
           }
          ],
          "mesh3d": [
           {
            "colorbar": {
             "outlinewidth": 0,
             "ticks": ""
            },
            "type": "mesh3d"
           }
          ],
          "parcoords": [
           {
            "line": {
             "colorbar": {
              "outlinewidth": 0,
              "ticks": ""
             }
            },
            "type": "parcoords"
           }
          ],
          "pie": [
           {
            "automargin": true,
            "type": "pie"
           }
          ],
          "scatter": [
           {
            "fillpattern": {
             "fillmode": "overlay",
             "size": 10,
             "solidity": 0.2
            },
            "type": "scatter"
           }
          ],
          "scatter3d": [
           {
            "line": {
             "colorbar": {
              "outlinewidth": 0,
              "ticks": ""
             }
            },
            "marker": {
             "colorbar": {
              "outlinewidth": 0,
              "ticks": ""
             }
            },
            "type": "scatter3d"
           }
          ],
          "scattercarpet": [
           {
            "marker": {
             "colorbar": {
              "outlinewidth": 0,
              "ticks": ""
             }
            },
            "type": "scattercarpet"
           }
          ],
          "scattergeo": [
           {
            "marker": {
             "colorbar": {
              "outlinewidth": 0,
              "ticks": ""
             }
            },
            "type": "scattergeo"
           }
          ],
          "scattergl": [
           {
            "marker": {
             "colorbar": {
              "outlinewidth": 0,
              "ticks": ""
             }
            },
            "type": "scattergl"
           }
          ],
          "scattermapbox": [
           {
            "marker": {
             "colorbar": {
              "outlinewidth": 0,
              "ticks": ""
             }
            },
            "type": "scattermapbox"
           }
          ],
          "scatterpolar": [
           {
            "marker": {
             "colorbar": {
              "outlinewidth": 0,
              "ticks": ""
             }
            },
            "type": "scatterpolar"
           }
          ],
          "scatterpolargl": [
           {
            "marker": {
             "colorbar": {
              "outlinewidth": 0,
              "ticks": ""
             }
            },
            "type": "scatterpolargl"
           }
          ],
          "scatterternary": [
           {
            "marker": {
             "colorbar": {
              "outlinewidth": 0,
              "ticks": ""
             }
            },
            "type": "scatterternary"
           }
          ],
          "surface": [
           {
            "colorbar": {
             "outlinewidth": 0,
             "ticks": ""
            },
            "colorscale": [
             [
              0,
              "#0d0887"
             ],
             [
              0.1111111111111111,
              "#46039f"
             ],
             [
              0.2222222222222222,
              "#7201a8"
             ],
             [
              0.3333333333333333,
              "#9c179e"
             ],
             [
              0.4444444444444444,
              "#bd3786"
             ],
             [
              0.5555555555555556,
              "#d8576b"
             ],
             [
              0.6666666666666666,
              "#ed7953"
             ],
             [
              0.7777777777777778,
              "#fb9f3a"
             ],
             [
              0.8888888888888888,
              "#fdca26"
             ],
             [
              1,
              "#f0f921"
             ]
            ],
            "type": "surface"
           }
          ],
          "table": [
           {
            "cells": {
             "fill": {
              "color": "#EBF0F8"
             },
             "line": {
              "color": "white"
             }
            },
            "header": {
             "fill": {
              "color": "#C8D4E3"
             },
             "line": {
              "color": "white"
             }
            },
            "type": "table"
           }
          ]
         },
         "layout": {
          "annotationdefaults": {
           "arrowcolor": "#2a3f5f",
           "arrowhead": 0,
           "arrowwidth": 1
          },
          "autotypenumbers": "strict",
          "coloraxis": {
           "colorbar": {
            "outlinewidth": 0,
            "ticks": ""
           }
          },
          "colorscale": {
           "diverging": [
            [
             0,
             "#8e0152"
            ],
            [
             0.1,
             "#c51b7d"
            ],
            [
             0.2,
             "#de77ae"
            ],
            [
             0.3,
             "#f1b6da"
            ],
            [
             0.4,
             "#fde0ef"
            ],
            [
             0.5,
             "#f7f7f7"
            ],
            [
             0.6,
             "#e6f5d0"
            ],
            [
             0.7,
             "#b8e186"
            ],
            [
             0.8,
             "#7fbc41"
            ],
            [
             0.9,
             "#4d9221"
            ],
            [
             1,
             "#276419"
            ]
           ],
           "sequential": [
            [
             0,
             "#0d0887"
            ],
            [
             0.1111111111111111,
             "#46039f"
            ],
            [
             0.2222222222222222,
             "#7201a8"
            ],
            [
             0.3333333333333333,
             "#9c179e"
            ],
            [
             0.4444444444444444,
             "#bd3786"
            ],
            [
             0.5555555555555556,
             "#d8576b"
            ],
            [
             0.6666666666666666,
             "#ed7953"
            ],
            [
             0.7777777777777778,
             "#fb9f3a"
            ],
            [
             0.8888888888888888,
             "#fdca26"
            ],
            [
             1,
             "#f0f921"
            ]
           ],
           "sequentialminus": [
            [
             0,
             "#0d0887"
            ],
            [
             0.1111111111111111,
             "#46039f"
            ],
            [
             0.2222222222222222,
             "#7201a8"
            ],
            [
             0.3333333333333333,
             "#9c179e"
            ],
            [
             0.4444444444444444,
             "#bd3786"
            ],
            [
             0.5555555555555556,
             "#d8576b"
            ],
            [
             0.6666666666666666,
             "#ed7953"
            ],
            [
             0.7777777777777778,
             "#fb9f3a"
            ],
            [
             0.8888888888888888,
             "#fdca26"
            ],
            [
             1,
             "#f0f921"
            ]
           ]
          },
          "colorway": [
           "#636efa",
           "#EF553B",
           "#00cc96",
           "#ab63fa",
           "#FFA15A",
           "#19d3f3",
           "#FF6692",
           "#B6E880",
           "#FF97FF",
           "#FECB52"
          ],
          "font": {
           "color": "#2a3f5f"
          },
          "geo": {
           "bgcolor": "white",
           "lakecolor": "white",
           "landcolor": "#E5ECF6",
           "showlakes": true,
           "showland": true,
           "subunitcolor": "white"
          },
          "hoverlabel": {
           "align": "left"
          },
          "hovermode": "closest",
          "mapbox": {
           "style": "light"
          },
          "paper_bgcolor": "white",
          "plot_bgcolor": "#E5ECF6",
          "polar": {
           "angularaxis": {
            "gridcolor": "white",
            "linecolor": "white",
            "ticks": ""
           },
           "bgcolor": "#E5ECF6",
           "radialaxis": {
            "gridcolor": "white",
            "linecolor": "white",
            "ticks": ""
           }
          },
          "scene": {
           "xaxis": {
            "backgroundcolor": "#E5ECF6",
            "gridcolor": "white",
            "gridwidth": 2,
            "linecolor": "white",
            "showbackground": true,
            "ticks": "",
            "zerolinecolor": "white"
           },
           "yaxis": {
            "backgroundcolor": "#E5ECF6",
            "gridcolor": "white",
            "gridwidth": 2,
            "linecolor": "white",
            "showbackground": true,
            "ticks": "",
            "zerolinecolor": "white"
           },
           "zaxis": {
            "backgroundcolor": "#E5ECF6",
            "gridcolor": "white",
            "gridwidth": 2,
            "linecolor": "white",
            "showbackground": true,
            "ticks": "",
            "zerolinecolor": "white"
           }
          },
          "shapedefaults": {
           "line": {
            "color": "#2a3f5f"
           }
          },
          "ternary": {
           "aaxis": {
            "gridcolor": "white",
            "linecolor": "white",
            "ticks": ""
           },
           "baxis": {
            "gridcolor": "white",
            "linecolor": "white",
            "ticks": ""
           },
           "bgcolor": "#E5ECF6",
           "caxis": {
            "gridcolor": "white",
            "linecolor": "white",
            "ticks": ""
           }
          },
          "title": {
           "x": 0.05
          },
          "xaxis": {
           "automargin": true,
           "gridcolor": "white",
           "linecolor": "white",
           "ticks": "",
           "title": {
            "standoff": 15
           },
           "zerolinecolor": "white",
           "zerolinewidth": 2
          },
          "yaxis": {
           "automargin": true,
           "gridcolor": "white",
           "linecolor": "white",
           "ticks": "",
           "title": {
            "standoff": 15
           },
           "zerolinecolor": "white",
           "zerolinewidth": 2
          }
         }
        },
        "title": {
         "text": "Optimization History Plot"
        },
        "xaxis": {
         "title": {
          "text": "Trial"
         }
        },
        "yaxis": {
         "title": {
          "text": "Objective Value"
         }
        }
       }
      },
      "text/html": [
       "<div>                            <div id=\"bbbad462-f5c9-46b1-ba04-b5f3f8bbd394\" class=\"plotly-graph-div\" style=\"height:525px; width:100%;\"></div>            <script type=\"text/javascript\">                require([\"plotly\"], function(Plotly) {                    window.PLOTLYENV=window.PLOTLYENV || {};                                    if (document.getElementById(\"bbbad462-f5c9-46b1-ba04-b5f3f8bbd394\")) {                    Plotly.newPlot(                        \"bbbad462-f5c9-46b1-ba04-b5f3f8bbd394\",                        [{\"mode\":\"markers\",\"name\":\"Objective Value\",\"x\":[1,2,3,4],\"y\":[4.0,4,6,6],\"type\":\"scatter\"},{\"name\":\"Best Value\",\"x\":[1,2,3,4],\"y\":[4.0,4.0,6.0,6.0],\"type\":\"scatter\"}],                        {\"title\":{\"text\":\"Optimization History Plot\"},\"xaxis\":{\"title\":{\"text\":\"Trial\"}},\"yaxis\":{\"title\":{\"text\":\"Objective Value\"}},\"template\":{\"data\":{\"histogram2dcontour\":[{\"type\":\"histogram2dcontour\",\"colorbar\":{\"outlinewidth\":0,\"ticks\":\"\"},\"colorscale\":[[0.0,\"#0d0887\"],[0.1111111111111111,\"#46039f\"],[0.2222222222222222,\"#7201a8\"],[0.3333333333333333,\"#9c179e\"],[0.4444444444444444,\"#bd3786\"],[0.5555555555555556,\"#d8576b\"],[0.6666666666666666,\"#ed7953\"],[0.7777777777777778,\"#fb9f3a\"],[0.8888888888888888,\"#fdca26\"],[1.0,\"#f0f921\"]]}],\"choropleth\":[{\"type\":\"choropleth\",\"colorbar\":{\"outlinewidth\":0,\"ticks\":\"\"}}],\"histogram2d\":[{\"type\":\"histogram2d\",\"colorbar\":{\"outlinewidth\":0,\"ticks\":\"\"},\"colorscale\":[[0.0,\"#0d0887\"],[0.1111111111111111,\"#46039f\"],[0.2222222222222222,\"#7201a8\"],[0.3333333333333333,\"#9c179e\"],[0.4444444444444444,\"#bd3786\"],[0.5555555555555556,\"#d8576b\"],[0.6666666666666666,\"#ed7953\"],[0.7777777777777778,\"#fb9f3a\"],[0.8888888888888888,\"#fdca26\"],[1.0,\"#f0f921\"]]}],\"heatmap\":[{\"type\":\"heatmap\",\"colorbar\":{\"outlinewidth\":0,\"ticks\":\"\"},\"colorscale\":[[0.0,\"#0d0887\"],[0.1111111111111111,\"#46039f\"],[0.2222222222222222,\"#7201a8\"],[0.3333333333333333,\"#9c179e\"],[0.4444444444444444,\"#bd3786\"],[0.5555555555555556,\"#d8576b\"],[0.6666666666666666,\"#ed7953\"],[0.7777777777777778,\"#fb9f3a\"],[0.8888888888888888,\"#fdca26\"],[1.0,\"#f0f921\"]]}],\"heatmapgl\":[{\"type\":\"heatmapgl\",\"colorbar\":{\"outlinewidth\":0,\"ticks\":\"\"},\"colorscale\":[[0.0,\"#0d0887\"],[0.1111111111111111,\"#46039f\"],[0.2222222222222222,\"#7201a8\"],[0.3333333333333333,\"#9c179e\"],[0.4444444444444444,\"#bd3786\"],[0.5555555555555556,\"#d8576b\"],[0.6666666666666666,\"#ed7953\"],[0.7777777777777778,\"#fb9f3a\"],[0.8888888888888888,\"#fdca26\"],[1.0,\"#f0f921\"]]}],\"contourcarpet\":[{\"type\":\"contourcarpet\",\"colorbar\":{\"outlinewidth\":0,\"ticks\":\"\"}}],\"contour\":[{\"type\":\"contour\",\"colorbar\":{\"outlinewidth\":0,\"ticks\":\"\"},\"colorscale\":[[0.0,\"#0d0887\"],[0.1111111111111111,\"#46039f\"],[0.2222222222222222,\"#7201a8\"],[0.3333333333333333,\"#9c179e\"],[0.4444444444444444,\"#bd3786\"],[0.5555555555555556,\"#d8576b\"],[0.6666666666666666,\"#ed7953\"],[0.7777777777777778,\"#fb9f3a\"],[0.8888888888888888,\"#fdca26\"],[1.0,\"#f0f921\"]]}],\"surface\":[{\"type\":\"surface\",\"colorbar\":{\"outlinewidth\":0,\"ticks\":\"\"},\"colorscale\":[[0.0,\"#0d0887\"],[0.1111111111111111,\"#46039f\"],[0.2222222222222222,\"#7201a8\"],[0.3333333333333333,\"#9c179e\"],[0.4444444444444444,\"#bd3786\"],[0.5555555555555556,\"#d8576b\"],[0.6666666666666666,\"#ed7953\"],[0.7777777777777778,\"#fb9f3a\"],[0.8888888888888888,\"#fdca26\"],[1.0,\"#f0f921\"]]}],\"mesh3d\":[{\"type\":\"mesh3d\",\"colorbar\":{\"outlinewidth\":0,\"ticks\":\"\"}}],\"scatter\":[{\"fillpattern\":{\"fillmode\":\"overlay\",\"size\":10,\"solidity\":0.2},\"type\":\"scatter\"}],\"parcoords\":[{\"type\":\"parcoords\",\"line\":{\"colorbar\":{\"outlinewidth\":0,\"ticks\":\"\"}}}],\"scatterpolargl\":[{\"type\":\"scatterpolargl\",\"marker\":{\"colorbar\":{\"outlinewidth\":0,\"ticks\":\"\"}}}],\"bar\":[{\"error_x\":{\"color\":\"#2a3f5f\"},\"error_y\":{\"color\":\"#2a3f5f\"},\"marker\":{\"line\":{\"color\":\"#E5ECF6\",\"width\":0.5},\"pattern\":{\"fillmode\":\"overlay\",\"size\":10,\"solidity\":0.2}},\"type\":\"bar\"}],\"scattergeo\":[{\"type\":\"scattergeo\",\"marker\":{\"colorbar\":{\"outlinewidth\":0,\"ticks\":\"\"}}}],\"scatterpolar\":[{\"type\":\"scatterpolar\",\"marker\":{\"colorbar\":{\"outlinewidth\":0,\"ticks\":\"\"}}}],\"histogram\":[{\"marker\":{\"pattern\":{\"fillmode\":\"overlay\",\"size\":10,\"solidity\":0.2}},\"type\":\"histogram\"}],\"scattergl\":[{\"type\":\"scattergl\",\"marker\":{\"colorbar\":{\"outlinewidth\":0,\"ticks\":\"\"}}}],\"scatter3d\":[{\"type\":\"scatter3d\",\"line\":{\"colorbar\":{\"outlinewidth\":0,\"ticks\":\"\"}},\"marker\":{\"colorbar\":{\"outlinewidth\":0,\"ticks\":\"\"}}}],\"scattermapbox\":[{\"type\":\"scattermapbox\",\"marker\":{\"colorbar\":{\"outlinewidth\":0,\"ticks\":\"\"}}}],\"scatterternary\":[{\"type\":\"scatterternary\",\"marker\":{\"colorbar\":{\"outlinewidth\":0,\"ticks\":\"\"}}}],\"scattercarpet\":[{\"type\":\"scattercarpet\",\"marker\":{\"colorbar\":{\"outlinewidth\":0,\"ticks\":\"\"}}}],\"carpet\":[{\"aaxis\":{\"endlinecolor\":\"#2a3f5f\",\"gridcolor\":\"white\",\"linecolor\":\"white\",\"minorgridcolor\":\"white\",\"startlinecolor\":\"#2a3f5f\"},\"baxis\":{\"endlinecolor\":\"#2a3f5f\",\"gridcolor\":\"white\",\"linecolor\":\"white\",\"minorgridcolor\":\"white\",\"startlinecolor\":\"#2a3f5f\"},\"type\":\"carpet\"}],\"table\":[{\"cells\":{\"fill\":{\"color\":\"#EBF0F8\"},\"line\":{\"color\":\"white\"}},\"header\":{\"fill\":{\"color\":\"#C8D4E3\"},\"line\":{\"color\":\"white\"}},\"type\":\"table\"}],\"barpolar\":[{\"marker\":{\"line\":{\"color\":\"#E5ECF6\",\"width\":0.5},\"pattern\":{\"fillmode\":\"overlay\",\"size\":10,\"solidity\":0.2}},\"type\":\"barpolar\"}],\"pie\":[{\"automargin\":true,\"type\":\"pie\"}]},\"layout\":{\"autotypenumbers\":\"strict\",\"colorway\":[\"#636efa\",\"#EF553B\",\"#00cc96\",\"#ab63fa\",\"#FFA15A\",\"#19d3f3\",\"#FF6692\",\"#B6E880\",\"#FF97FF\",\"#FECB52\"],\"font\":{\"color\":\"#2a3f5f\"},\"hovermode\":\"closest\",\"hoverlabel\":{\"align\":\"left\"},\"paper_bgcolor\":\"white\",\"plot_bgcolor\":\"#E5ECF6\",\"polar\":{\"bgcolor\":\"#E5ECF6\",\"angularaxis\":{\"gridcolor\":\"white\",\"linecolor\":\"white\",\"ticks\":\"\"},\"radialaxis\":{\"gridcolor\":\"white\",\"linecolor\":\"white\",\"ticks\":\"\"}},\"ternary\":{\"bgcolor\":\"#E5ECF6\",\"aaxis\":{\"gridcolor\":\"white\",\"linecolor\":\"white\",\"ticks\":\"\"},\"baxis\":{\"gridcolor\":\"white\",\"linecolor\":\"white\",\"ticks\":\"\"},\"caxis\":{\"gridcolor\":\"white\",\"linecolor\":\"white\",\"ticks\":\"\"}},\"coloraxis\":{\"colorbar\":{\"outlinewidth\":0,\"ticks\":\"\"}},\"colorscale\":{\"sequential\":[[0.0,\"#0d0887\"],[0.1111111111111111,\"#46039f\"],[0.2222222222222222,\"#7201a8\"],[0.3333333333333333,\"#9c179e\"],[0.4444444444444444,\"#bd3786\"],[0.5555555555555556,\"#d8576b\"],[0.6666666666666666,\"#ed7953\"],[0.7777777777777778,\"#fb9f3a\"],[0.8888888888888888,\"#fdca26\"],[1.0,\"#f0f921\"]],\"sequentialminus\":[[0.0,\"#0d0887\"],[0.1111111111111111,\"#46039f\"],[0.2222222222222222,\"#7201a8\"],[0.3333333333333333,\"#9c179e\"],[0.4444444444444444,\"#bd3786\"],[0.5555555555555556,\"#d8576b\"],[0.6666666666666666,\"#ed7953\"],[0.7777777777777778,\"#fb9f3a\"],[0.8888888888888888,\"#fdca26\"],[1.0,\"#f0f921\"]],\"diverging\":[[0,\"#8e0152\"],[0.1,\"#c51b7d\"],[0.2,\"#de77ae\"],[0.3,\"#f1b6da\"],[0.4,\"#fde0ef\"],[0.5,\"#f7f7f7\"],[0.6,\"#e6f5d0\"],[0.7,\"#b8e186\"],[0.8,\"#7fbc41\"],[0.9,\"#4d9221\"],[1,\"#276419\"]]},\"xaxis\":{\"gridcolor\":\"white\",\"linecolor\":\"white\",\"ticks\":\"\",\"title\":{\"standoff\":15},\"zerolinecolor\":\"white\",\"automargin\":true,\"zerolinewidth\":2},\"yaxis\":{\"gridcolor\":\"white\",\"linecolor\":\"white\",\"ticks\":\"\",\"title\":{\"standoff\":15},\"zerolinecolor\":\"white\",\"automargin\":true,\"zerolinewidth\":2},\"scene\":{\"xaxis\":{\"backgroundcolor\":\"#E5ECF6\",\"gridcolor\":\"white\",\"linecolor\":\"white\",\"showbackground\":true,\"ticks\":\"\",\"zerolinecolor\":\"white\",\"gridwidth\":2},\"yaxis\":{\"backgroundcolor\":\"#E5ECF6\",\"gridcolor\":\"white\",\"linecolor\":\"white\",\"showbackground\":true,\"ticks\":\"\",\"zerolinecolor\":\"white\",\"gridwidth\":2},\"zaxis\":{\"backgroundcolor\":\"#E5ECF6\",\"gridcolor\":\"white\",\"linecolor\":\"white\",\"showbackground\":true,\"ticks\":\"\",\"zerolinecolor\":\"white\",\"gridwidth\":2}},\"shapedefaults\":{\"line\":{\"color\":\"#2a3f5f\"}},\"annotationdefaults\":{\"arrowcolor\":\"#2a3f5f\",\"arrowhead\":0,\"arrowwidth\":1},\"geo\":{\"bgcolor\":\"white\",\"landcolor\":\"#E5ECF6\",\"subunitcolor\":\"white\",\"showland\":true,\"showlakes\":true,\"lakecolor\":\"white\"},\"title\":{\"x\":0.05},\"mapbox\":{\"style\":\"light\"}}}},                        {\"responsive\": true}                    ).then(function(){\n",
       "                            \n",
       "var gd = document.getElementById('bbbad462-f5c9-46b1-ba04-b5f3f8bbd394');\n",
       "var x = new MutationObserver(function (mutations, observer) {{\n",
       "        var display = window.getComputedStyle(gd).display;\n",
       "        if (!display || display === 'none') {{\n",
       "            console.log([gd, 'removed!']);\n",
       "            Plotly.purge(gd);\n",
       "            observer.disconnect();\n",
       "        }}\n",
       "}});\n",
       "\n",
       "// Listen for the removal of the full notebook cells\n",
       "var notebookContainer = gd.closest('#notebook-container');\n",
       "if (notebookContainer) {{\n",
       "    x.observe(notebookContainer, {childList: true});\n",
       "}}\n",
       "\n",
       "// Listen for the clearing of the current output cell\n",
       "var outputEl = gd.closest('.output');\n",
       "if (outputEl) {{\n",
       "    x.observe(outputEl, {childList: true});\n",
       "}}\n",
       "\n",
       "                        })                };                });            </script>        </div>"
      ]
     },
     "metadata": {},
     "output_type": "display_data"
    }
   ],
   "source": [
    "optuna.visualization.plot_optimization_history(study)"
   ]
  },
  {
   "cell_type": "code",
   "execution_count": 29,
   "metadata": {
    "colab": {
     "base_uri": "https://localhost:8080/",
     "height": 168
    },
    "id": "yB0CG2Y31jqR",
    "outputId": "7a925a86-4020-44b8-b2bf-f42a112d7031"
   },
   "outputs": [
    {
     "data": {
      "application/vnd.plotly.v1+json": {
       "config": {
        "plotlyServerURL": "https://plot.ly"
       },
       "data": [
        {
         "dimensions": [
          {
           "label": "Objective Value",
           "range": [
            4,
            6
           ],
           "values": [
            4,
            4,
            6,
            6
           ]
          },
          {
           "label": "baking_soda",
           "range": [
            0.5,
            0.625
           ],
           "values": [
            0.625,
            0.5,
            0.5,
            0.625
           ]
          },
          {
           "label": "brown_sugar",
           "range": [
            0.31,
            0.88
           ],
           "values": [
            0.7280600317739677,
            0.5,
            0.88,
            0.31
           ]
          },
          {
           "label": "butter",
           "range": [
            81,
            129
           ],
           "values": [
            83,
            125,
            129,
            81
           ]
          },
          {
           "label": "cayenne_pepper",
           "range": [
            0,
            0.375
           ],
           "values": [
            0.375,
            0,
            0.25,
            0.125
           ]
          },
          {
           "label": "chocolate_chip",
           "range": [
            154,
            245
           ],
           "values": [
            154,
            160,
            196,
            245
           ]
          },
          {
           "label": "chocolate_chip_type",
           "range": [
            0,
            1
           ],
           "ticktext": [
            "dark",
            "milk"
           ],
           "tickvals": [
            0,
            1
           ],
           "values": [
            0,
            1,
            0,
            1
           ]
          },
          {
           "label": "egg",
           "range": [
            26,
            30
           ],
           "values": [
            26,
            30,
            30,
            26
           ]
          },
          {
           "label": "orange",
           "range": [
            0,
            0.375
           ],
           "values": [
            0.25,
            0,
            0.375,
            0.125
           ]
          },
          {
           "label": "salt",
           "range": [
            0.25,
            0.5
           ],
           "values": [
            0.375,
            0.25,
            0.25,
            0.5
           ]
          },
          {
           "label": "sugar",
           "range": [
            108,
            395
           ],
           "values": [
            395,
            300,
            108,
            127
           ]
          },
          {
           "label": "vanilla",
           "range": [
            0.375,
            0.75
           ],
           "values": [
            0.375,
            0.5,
            0.5,
            0.75
           ]
          }
         ],
         "labelangle": 30,
         "labelside": "bottom",
         "line": {
          "color": [
           4,
           4,
           6,
           6
          ],
          "colorbar": {
           "title": {
            "text": "Objective Value"
           }
          },
          "colorscale": [
           [
            0,
            "rgb(247,251,255)"
           ],
           [
            0.125,
            "rgb(222,235,247)"
           ],
           [
            0.25,
            "rgb(198,219,239)"
           ],
           [
            0.375,
            "rgb(158,202,225)"
           ],
           [
            0.5,
            "rgb(107,174,214)"
           ],
           [
            0.625,
            "rgb(66,146,198)"
           ],
           [
            0.75,
            "rgb(33,113,181)"
           ],
           [
            0.875,
            "rgb(8,81,156)"
           ],
           [
            1,
            "rgb(8,48,107)"
           ]
          ],
          "reversescale": false,
          "showscale": true
         },
         "type": "parcoords"
        }
       ],
       "layout": {
        "template": {
         "data": {
          "bar": [
           {
            "error_x": {
             "color": "#2a3f5f"
            },
            "error_y": {
             "color": "#2a3f5f"
            },
            "marker": {
             "line": {
              "color": "#E5ECF6",
              "width": 0.5
             },
             "pattern": {
              "fillmode": "overlay",
              "size": 10,
              "solidity": 0.2
             }
            },
            "type": "bar"
           }
          ],
          "barpolar": [
           {
            "marker": {
             "line": {
              "color": "#E5ECF6",
              "width": 0.5
             },
             "pattern": {
              "fillmode": "overlay",
              "size": 10,
              "solidity": 0.2
             }
            },
            "type": "barpolar"
           }
          ],
          "carpet": [
           {
            "aaxis": {
             "endlinecolor": "#2a3f5f",
             "gridcolor": "white",
             "linecolor": "white",
             "minorgridcolor": "white",
             "startlinecolor": "#2a3f5f"
            },
            "baxis": {
             "endlinecolor": "#2a3f5f",
             "gridcolor": "white",
             "linecolor": "white",
             "minorgridcolor": "white",
             "startlinecolor": "#2a3f5f"
            },
            "type": "carpet"
           }
          ],
          "choropleth": [
           {
            "colorbar": {
             "outlinewidth": 0,
             "ticks": ""
            },
            "type": "choropleth"
           }
          ],
          "contour": [
           {
            "colorbar": {
             "outlinewidth": 0,
             "ticks": ""
            },
            "colorscale": [
             [
              0,
              "#0d0887"
             ],
             [
              0.1111111111111111,
              "#46039f"
             ],
             [
              0.2222222222222222,
              "#7201a8"
             ],
             [
              0.3333333333333333,
              "#9c179e"
             ],
             [
              0.4444444444444444,
              "#bd3786"
             ],
             [
              0.5555555555555556,
              "#d8576b"
             ],
             [
              0.6666666666666666,
              "#ed7953"
             ],
             [
              0.7777777777777778,
              "#fb9f3a"
             ],
             [
              0.8888888888888888,
              "#fdca26"
             ],
             [
              1,
              "#f0f921"
             ]
            ],
            "type": "contour"
           }
          ],
          "contourcarpet": [
           {
            "colorbar": {
             "outlinewidth": 0,
             "ticks": ""
            },
            "type": "contourcarpet"
           }
          ],
          "heatmap": [
           {
            "colorbar": {
             "outlinewidth": 0,
             "ticks": ""
            },
            "colorscale": [
             [
              0,
              "#0d0887"
             ],
             [
              0.1111111111111111,
              "#46039f"
             ],
             [
              0.2222222222222222,
              "#7201a8"
             ],
             [
              0.3333333333333333,
              "#9c179e"
             ],
             [
              0.4444444444444444,
              "#bd3786"
             ],
             [
              0.5555555555555556,
              "#d8576b"
             ],
             [
              0.6666666666666666,
              "#ed7953"
             ],
             [
              0.7777777777777778,
              "#fb9f3a"
             ],
             [
              0.8888888888888888,
              "#fdca26"
             ],
             [
              1,
              "#f0f921"
             ]
            ],
            "type": "heatmap"
           }
          ],
          "heatmapgl": [
           {
            "colorbar": {
             "outlinewidth": 0,
             "ticks": ""
            },
            "colorscale": [
             [
              0,
              "#0d0887"
             ],
             [
              0.1111111111111111,
              "#46039f"
             ],
             [
              0.2222222222222222,
              "#7201a8"
             ],
             [
              0.3333333333333333,
              "#9c179e"
             ],
             [
              0.4444444444444444,
              "#bd3786"
             ],
             [
              0.5555555555555556,
              "#d8576b"
             ],
             [
              0.6666666666666666,
              "#ed7953"
             ],
             [
              0.7777777777777778,
              "#fb9f3a"
             ],
             [
              0.8888888888888888,
              "#fdca26"
             ],
             [
              1,
              "#f0f921"
             ]
            ],
            "type": "heatmapgl"
           }
          ],
          "histogram": [
           {
            "marker": {
             "pattern": {
              "fillmode": "overlay",
              "size": 10,
              "solidity": 0.2
             }
            },
            "type": "histogram"
           }
          ],
          "histogram2d": [
           {
            "colorbar": {
             "outlinewidth": 0,
             "ticks": ""
            },
            "colorscale": [
             [
              0,
              "#0d0887"
             ],
             [
              0.1111111111111111,
              "#46039f"
             ],
             [
              0.2222222222222222,
              "#7201a8"
             ],
             [
              0.3333333333333333,
              "#9c179e"
             ],
             [
              0.4444444444444444,
              "#bd3786"
             ],
             [
              0.5555555555555556,
              "#d8576b"
             ],
             [
              0.6666666666666666,
              "#ed7953"
             ],
             [
              0.7777777777777778,
              "#fb9f3a"
             ],
             [
              0.8888888888888888,
              "#fdca26"
             ],
             [
              1,
              "#f0f921"
             ]
            ],
            "type": "histogram2d"
           }
          ],
          "histogram2dcontour": [
           {
            "colorbar": {
             "outlinewidth": 0,
             "ticks": ""
            },
            "colorscale": [
             [
              0,
              "#0d0887"
             ],
             [
              0.1111111111111111,
              "#46039f"
             ],
             [
              0.2222222222222222,
              "#7201a8"
             ],
             [
              0.3333333333333333,
              "#9c179e"
             ],
             [
              0.4444444444444444,
              "#bd3786"
             ],
             [
              0.5555555555555556,
              "#d8576b"
             ],
             [
              0.6666666666666666,
              "#ed7953"
             ],
             [
              0.7777777777777778,
              "#fb9f3a"
             ],
             [
              0.8888888888888888,
              "#fdca26"
             ],
             [
              1,
              "#f0f921"
             ]
            ],
            "type": "histogram2dcontour"
           }
          ],
          "mesh3d": [
           {
            "colorbar": {
             "outlinewidth": 0,
             "ticks": ""
            },
            "type": "mesh3d"
           }
          ],
          "parcoords": [
           {
            "line": {
             "colorbar": {
              "outlinewidth": 0,
              "ticks": ""
             }
            },
            "type": "parcoords"
           }
          ],
          "pie": [
           {
            "automargin": true,
            "type": "pie"
           }
          ],
          "scatter": [
           {
            "fillpattern": {
             "fillmode": "overlay",
             "size": 10,
             "solidity": 0.2
            },
            "type": "scatter"
           }
          ],
          "scatter3d": [
           {
            "line": {
             "colorbar": {
              "outlinewidth": 0,
              "ticks": ""
             }
            },
            "marker": {
             "colorbar": {
              "outlinewidth": 0,
              "ticks": ""
             }
            },
            "type": "scatter3d"
           }
          ],
          "scattercarpet": [
           {
            "marker": {
             "colorbar": {
              "outlinewidth": 0,
              "ticks": ""
             }
            },
            "type": "scattercarpet"
           }
          ],
          "scattergeo": [
           {
            "marker": {
             "colorbar": {
              "outlinewidth": 0,
              "ticks": ""
             }
            },
            "type": "scattergeo"
           }
          ],
          "scattergl": [
           {
            "marker": {
             "colorbar": {
              "outlinewidth": 0,
              "ticks": ""
             }
            },
            "type": "scattergl"
           }
          ],
          "scattermapbox": [
           {
            "marker": {
             "colorbar": {
              "outlinewidth": 0,
              "ticks": ""
             }
            },
            "type": "scattermapbox"
           }
          ],
          "scatterpolar": [
           {
            "marker": {
             "colorbar": {
              "outlinewidth": 0,
              "ticks": ""
             }
            },
            "type": "scatterpolar"
           }
          ],
          "scatterpolargl": [
           {
            "marker": {
             "colorbar": {
              "outlinewidth": 0,
              "ticks": ""
             }
            },
            "type": "scatterpolargl"
           }
          ],
          "scatterternary": [
           {
            "marker": {
             "colorbar": {
              "outlinewidth": 0,
              "ticks": ""
             }
            },
            "type": "scatterternary"
           }
          ],
          "surface": [
           {
            "colorbar": {
             "outlinewidth": 0,
             "ticks": ""
            },
            "colorscale": [
             [
              0,
              "#0d0887"
             ],
             [
              0.1111111111111111,
              "#46039f"
             ],
             [
              0.2222222222222222,
              "#7201a8"
             ],
             [
              0.3333333333333333,
              "#9c179e"
             ],
             [
              0.4444444444444444,
              "#bd3786"
             ],
             [
              0.5555555555555556,
              "#d8576b"
             ],
             [
              0.6666666666666666,
              "#ed7953"
             ],
             [
              0.7777777777777778,
              "#fb9f3a"
             ],
             [
              0.8888888888888888,
              "#fdca26"
             ],
             [
              1,
              "#f0f921"
             ]
            ],
            "type": "surface"
           }
          ],
          "table": [
           {
            "cells": {
             "fill": {
              "color": "#EBF0F8"
             },
             "line": {
              "color": "white"
             }
            },
            "header": {
             "fill": {
              "color": "#C8D4E3"
             },
             "line": {
              "color": "white"
             }
            },
            "type": "table"
           }
          ]
         },
         "layout": {
          "annotationdefaults": {
           "arrowcolor": "#2a3f5f",
           "arrowhead": 0,
           "arrowwidth": 1
          },
          "autotypenumbers": "strict",
          "coloraxis": {
           "colorbar": {
            "outlinewidth": 0,
            "ticks": ""
           }
          },
          "colorscale": {
           "diverging": [
            [
             0,
             "#8e0152"
            ],
            [
             0.1,
             "#c51b7d"
            ],
            [
             0.2,
             "#de77ae"
            ],
            [
             0.3,
             "#f1b6da"
            ],
            [
             0.4,
             "#fde0ef"
            ],
            [
             0.5,
             "#f7f7f7"
            ],
            [
             0.6,
             "#e6f5d0"
            ],
            [
             0.7,
             "#b8e186"
            ],
            [
             0.8,
             "#7fbc41"
            ],
            [
             0.9,
             "#4d9221"
            ],
            [
             1,
             "#276419"
            ]
           ],
           "sequential": [
            [
             0,
             "#0d0887"
            ],
            [
             0.1111111111111111,
             "#46039f"
            ],
            [
             0.2222222222222222,
             "#7201a8"
            ],
            [
             0.3333333333333333,
             "#9c179e"
            ],
            [
             0.4444444444444444,
             "#bd3786"
            ],
            [
             0.5555555555555556,
             "#d8576b"
            ],
            [
             0.6666666666666666,
             "#ed7953"
            ],
            [
             0.7777777777777778,
             "#fb9f3a"
            ],
            [
             0.8888888888888888,
             "#fdca26"
            ],
            [
             1,
             "#f0f921"
            ]
           ],
           "sequentialminus": [
            [
             0,
             "#0d0887"
            ],
            [
             0.1111111111111111,
             "#46039f"
            ],
            [
             0.2222222222222222,
             "#7201a8"
            ],
            [
             0.3333333333333333,
             "#9c179e"
            ],
            [
             0.4444444444444444,
             "#bd3786"
            ],
            [
             0.5555555555555556,
             "#d8576b"
            ],
            [
             0.6666666666666666,
             "#ed7953"
            ],
            [
             0.7777777777777778,
             "#fb9f3a"
            ],
            [
             0.8888888888888888,
             "#fdca26"
            ],
            [
             1,
             "#f0f921"
            ]
           ]
          },
          "colorway": [
           "#636efa",
           "#EF553B",
           "#00cc96",
           "#ab63fa",
           "#FFA15A",
           "#19d3f3",
           "#FF6692",
           "#B6E880",
           "#FF97FF",
           "#FECB52"
          ],
          "font": {
           "color": "#2a3f5f"
          },
          "geo": {
           "bgcolor": "white",
           "lakecolor": "white",
           "landcolor": "#E5ECF6",
           "showlakes": true,
           "showland": true,
           "subunitcolor": "white"
          },
          "hoverlabel": {
           "align": "left"
          },
          "hovermode": "closest",
          "mapbox": {
           "style": "light"
          },
          "paper_bgcolor": "white",
          "plot_bgcolor": "#E5ECF6",
          "polar": {
           "angularaxis": {
            "gridcolor": "white",
            "linecolor": "white",
            "ticks": ""
           },
           "bgcolor": "#E5ECF6",
           "radialaxis": {
            "gridcolor": "white",
            "linecolor": "white",
            "ticks": ""
           }
          },
          "scene": {
           "xaxis": {
            "backgroundcolor": "#E5ECF6",
            "gridcolor": "white",
            "gridwidth": 2,
            "linecolor": "white",
            "showbackground": true,
            "ticks": "",
            "zerolinecolor": "white"
           },
           "yaxis": {
            "backgroundcolor": "#E5ECF6",
            "gridcolor": "white",
            "gridwidth": 2,
            "linecolor": "white",
            "showbackground": true,
            "ticks": "",
            "zerolinecolor": "white"
           },
           "zaxis": {
            "backgroundcolor": "#E5ECF6",
            "gridcolor": "white",
            "gridwidth": 2,
            "linecolor": "white",
            "showbackground": true,
            "ticks": "",
            "zerolinecolor": "white"
           }
          },
          "shapedefaults": {
           "line": {
            "color": "#2a3f5f"
           }
          },
          "ternary": {
           "aaxis": {
            "gridcolor": "white",
            "linecolor": "white",
            "ticks": ""
           },
           "baxis": {
            "gridcolor": "white",
            "linecolor": "white",
            "ticks": ""
           },
           "bgcolor": "#E5ECF6",
           "caxis": {
            "gridcolor": "white",
            "linecolor": "white",
            "ticks": ""
           }
          },
          "title": {
           "x": 0.05
          },
          "xaxis": {
           "automargin": true,
           "gridcolor": "white",
           "linecolor": "white",
           "ticks": "",
           "title": {
            "standoff": 15
           },
           "zerolinecolor": "white",
           "zerolinewidth": 2
          },
          "yaxis": {
           "automargin": true,
           "gridcolor": "white",
           "linecolor": "white",
           "ticks": "",
           "title": {
            "standoff": 15
           },
           "zerolinecolor": "white",
           "zerolinewidth": 2
          }
         }
        },
        "title": {
         "text": "Parallel Coordinate Plot"
        }
       }
      },
      "text/html": [
       "<div>                            <div id=\"10b779ce-6c54-4927-95a2-956971649a85\" class=\"plotly-graph-div\" style=\"height:525px; width:100%;\"></div>            <script type=\"text/javascript\">                require([\"plotly\"], function(Plotly) {                    window.PLOTLYENV=window.PLOTLYENV || {};                                    if (document.getElementById(\"10b779ce-6c54-4927-95a2-956971649a85\")) {                    Plotly.newPlot(                        \"10b779ce-6c54-4927-95a2-956971649a85\",                        [{\"dimensions\":[{\"label\":\"Objective Value\",\"range\":[4.0,6],\"values\":[4.0,4,6,6]},{\"label\":\"baking_soda\",\"range\":[0.5,0.625],\"values\":[0.625,0.5,0.5,0.625]},{\"label\":\"brown_sugar\",\"range\":[0.31,0.88],\"values\":[0.7280600317739677,0.5,0.88,0.31]},{\"label\":\"butter\",\"range\":[81,129],\"values\":[83,125,129,81]},{\"label\":\"cayenne_pepper\",\"range\":[0,0.375],\"values\":[0.375,0,0.25,0.125]},{\"label\":\"chocolate_chip\",\"range\":[154,245],\"values\":[154,160,196,245]},{\"label\":\"chocolate_chip_type\",\"range\":[0,1],\"ticktext\":[\"dark\",\"milk\"],\"tickvals\":[0,1],\"values\":[0,1,0,1]},{\"label\":\"egg\",\"range\":[26,30],\"values\":[26,30,30,26]},{\"label\":\"orange\",\"range\":[0,0.375],\"values\":[0.25,0,0.375,0.125]},{\"label\":\"salt\",\"range\":[0.25,0.5],\"values\":[0.375,0.25,0.25,0.5]},{\"label\":\"sugar\",\"range\":[108,395],\"values\":[395,300,108,127]},{\"label\":\"vanilla\",\"range\":[0.375,0.75],\"values\":[0.375,0.5,0.5,0.75]}],\"labelangle\":30,\"labelside\":\"bottom\",\"line\":{\"color\":[4.0,4,6,6],\"colorbar\":{\"title\":{\"text\":\"Objective Value\"}},\"colorscale\":[[0.0,\"rgb(247,251,255)\"],[0.125,\"rgb(222,235,247)\"],[0.25,\"rgb(198,219,239)\"],[0.375,\"rgb(158,202,225)\"],[0.5,\"rgb(107,174,214)\"],[0.625,\"rgb(66,146,198)\"],[0.75,\"rgb(33,113,181)\"],[0.875,\"rgb(8,81,156)\"],[1.0,\"rgb(8,48,107)\"]],\"reversescale\":false,\"showscale\":true},\"type\":\"parcoords\"}],                        {\"title\":{\"text\":\"Parallel Coordinate Plot\"},\"template\":{\"data\":{\"histogram2dcontour\":[{\"type\":\"histogram2dcontour\",\"colorbar\":{\"outlinewidth\":0,\"ticks\":\"\"},\"colorscale\":[[0.0,\"#0d0887\"],[0.1111111111111111,\"#46039f\"],[0.2222222222222222,\"#7201a8\"],[0.3333333333333333,\"#9c179e\"],[0.4444444444444444,\"#bd3786\"],[0.5555555555555556,\"#d8576b\"],[0.6666666666666666,\"#ed7953\"],[0.7777777777777778,\"#fb9f3a\"],[0.8888888888888888,\"#fdca26\"],[1.0,\"#f0f921\"]]}],\"choropleth\":[{\"type\":\"choropleth\",\"colorbar\":{\"outlinewidth\":0,\"ticks\":\"\"}}],\"histogram2d\":[{\"type\":\"histogram2d\",\"colorbar\":{\"outlinewidth\":0,\"ticks\":\"\"},\"colorscale\":[[0.0,\"#0d0887\"],[0.1111111111111111,\"#46039f\"],[0.2222222222222222,\"#7201a8\"],[0.3333333333333333,\"#9c179e\"],[0.4444444444444444,\"#bd3786\"],[0.5555555555555556,\"#d8576b\"],[0.6666666666666666,\"#ed7953\"],[0.7777777777777778,\"#fb9f3a\"],[0.8888888888888888,\"#fdca26\"],[1.0,\"#f0f921\"]]}],\"heatmap\":[{\"type\":\"heatmap\",\"colorbar\":{\"outlinewidth\":0,\"ticks\":\"\"},\"colorscale\":[[0.0,\"#0d0887\"],[0.1111111111111111,\"#46039f\"],[0.2222222222222222,\"#7201a8\"],[0.3333333333333333,\"#9c179e\"],[0.4444444444444444,\"#bd3786\"],[0.5555555555555556,\"#d8576b\"],[0.6666666666666666,\"#ed7953\"],[0.7777777777777778,\"#fb9f3a\"],[0.8888888888888888,\"#fdca26\"],[1.0,\"#f0f921\"]]}],\"heatmapgl\":[{\"type\":\"heatmapgl\",\"colorbar\":{\"outlinewidth\":0,\"ticks\":\"\"},\"colorscale\":[[0.0,\"#0d0887\"],[0.1111111111111111,\"#46039f\"],[0.2222222222222222,\"#7201a8\"],[0.3333333333333333,\"#9c179e\"],[0.4444444444444444,\"#bd3786\"],[0.5555555555555556,\"#d8576b\"],[0.6666666666666666,\"#ed7953\"],[0.7777777777777778,\"#fb9f3a\"],[0.8888888888888888,\"#fdca26\"],[1.0,\"#f0f921\"]]}],\"contourcarpet\":[{\"type\":\"contourcarpet\",\"colorbar\":{\"outlinewidth\":0,\"ticks\":\"\"}}],\"contour\":[{\"type\":\"contour\",\"colorbar\":{\"outlinewidth\":0,\"ticks\":\"\"},\"colorscale\":[[0.0,\"#0d0887\"],[0.1111111111111111,\"#46039f\"],[0.2222222222222222,\"#7201a8\"],[0.3333333333333333,\"#9c179e\"],[0.4444444444444444,\"#bd3786\"],[0.5555555555555556,\"#d8576b\"],[0.6666666666666666,\"#ed7953\"],[0.7777777777777778,\"#fb9f3a\"],[0.8888888888888888,\"#fdca26\"],[1.0,\"#f0f921\"]]}],\"surface\":[{\"type\":\"surface\",\"colorbar\":{\"outlinewidth\":0,\"ticks\":\"\"},\"colorscale\":[[0.0,\"#0d0887\"],[0.1111111111111111,\"#46039f\"],[0.2222222222222222,\"#7201a8\"],[0.3333333333333333,\"#9c179e\"],[0.4444444444444444,\"#bd3786\"],[0.5555555555555556,\"#d8576b\"],[0.6666666666666666,\"#ed7953\"],[0.7777777777777778,\"#fb9f3a\"],[0.8888888888888888,\"#fdca26\"],[1.0,\"#f0f921\"]]}],\"mesh3d\":[{\"type\":\"mesh3d\",\"colorbar\":{\"outlinewidth\":0,\"ticks\":\"\"}}],\"scatter\":[{\"fillpattern\":{\"fillmode\":\"overlay\",\"size\":10,\"solidity\":0.2},\"type\":\"scatter\"}],\"parcoords\":[{\"type\":\"parcoords\",\"line\":{\"colorbar\":{\"outlinewidth\":0,\"ticks\":\"\"}}}],\"scatterpolargl\":[{\"type\":\"scatterpolargl\",\"marker\":{\"colorbar\":{\"outlinewidth\":0,\"ticks\":\"\"}}}],\"bar\":[{\"error_x\":{\"color\":\"#2a3f5f\"},\"error_y\":{\"color\":\"#2a3f5f\"},\"marker\":{\"line\":{\"color\":\"#E5ECF6\",\"width\":0.5},\"pattern\":{\"fillmode\":\"overlay\",\"size\":10,\"solidity\":0.2}},\"type\":\"bar\"}],\"scattergeo\":[{\"type\":\"scattergeo\",\"marker\":{\"colorbar\":{\"outlinewidth\":0,\"ticks\":\"\"}}}],\"scatterpolar\":[{\"type\":\"scatterpolar\",\"marker\":{\"colorbar\":{\"outlinewidth\":0,\"ticks\":\"\"}}}],\"histogram\":[{\"marker\":{\"pattern\":{\"fillmode\":\"overlay\",\"size\":10,\"solidity\":0.2}},\"type\":\"histogram\"}],\"scattergl\":[{\"type\":\"scattergl\",\"marker\":{\"colorbar\":{\"outlinewidth\":0,\"ticks\":\"\"}}}],\"scatter3d\":[{\"type\":\"scatter3d\",\"line\":{\"colorbar\":{\"outlinewidth\":0,\"ticks\":\"\"}},\"marker\":{\"colorbar\":{\"outlinewidth\":0,\"ticks\":\"\"}}}],\"scattermapbox\":[{\"type\":\"scattermapbox\",\"marker\":{\"colorbar\":{\"outlinewidth\":0,\"ticks\":\"\"}}}],\"scatterternary\":[{\"type\":\"scatterternary\",\"marker\":{\"colorbar\":{\"outlinewidth\":0,\"ticks\":\"\"}}}],\"scattercarpet\":[{\"type\":\"scattercarpet\",\"marker\":{\"colorbar\":{\"outlinewidth\":0,\"ticks\":\"\"}}}],\"carpet\":[{\"aaxis\":{\"endlinecolor\":\"#2a3f5f\",\"gridcolor\":\"white\",\"linecolor\":\"white\",\"minorgridcolor\":\"white\",\"startlinecolor\":\"#2a3f5f\"},\"baxis\":{\"endlinecolor\":\"#2a3f5f\",\"gridcolor\":\"white\",\"linecolor\":\"white\",\"minorgridcolor\":\"white\",\"startlinecolor\":\"#2a3f5f\"},\"type\":\"carpet\"}],\"table\":[{\"cells\":{\"fill\":{\"color\":\"#EBF0F8\"},\"line\":{\"color\":\"white\"}},\"header\":{\"fill\":{\"color\":\"#C8D4E3\"},\"line\":{\"color\":\"white\"}},\"type\":\"table\"}],\"barpolar\":[{\"marker\":{\"line\":{\"color\":\"#E5ECF6\",\"width\":0.5},\"pattern\":{\"fillmode\":\"overlay\",\"size\":10,\"solidity\":0.2}},\"type\":\"barpolar\"}],\"pie\":[{\"automargin\":true,\"type\":\"pie\"}]},\"layout\":{\"autotypenumbers\":\"strict\",\"colorway\":[\"#636efa\",\"#EF553B\",\"#00cc96\",\"#ab63fa\",\"#FFA15A\",\"#19d3f3\",\"#FF6692\",\"#B6E880\",\"#FF97FF\",\"#FECB52\"],\"font\":{\"color\":\"#2a3f5f\"},\"hovermode\":\"closest\",\"hoverlabel\":{\"align\":\"left\"},\"paper_bgcolor\":\"white\",\"plot_bgcolor\":\"#E5ECF6\",\"polar\":{\"bgcolor\":\"#E5ECF6\",\"angularaxis\":{\"gridcolor\":\"white\",\"linecolor\":\"white\",\"ticks\":\"\"},\"radialaxis\":{\"gridcolor\":\"white\",\"linecolor\":\"white\",\"ticks\":\"\"}},\"ternary\":{\"bgcolor\":\"#E5ECF6\",\"aaxis\":{\"gridcolor\":\"white\",\"linecolor\":\"white\",\"ticks\":\"\"},\"baxis\":{\"gridcolor\":\"white\",\"linecolor\":\"white\",\"ticks\":\"\"},\"caxis\":{\"gridcolor\":\"white\",\"linecolor\":\"white\",\"ticks\":\"\"}},\"coloraxis\":{\"colorbar\":{\"outlinewidth\":0,\"ticks\":\"\"}},\"colorscale\":{\"sequential\":[[0.0,\"#0d0887\"],[0.1111111111111111,\"#46039f\"],[0.2222222222222222,\"#7201a8\"],[0.3333333333333333,\"#9c179e\"],[0.4444444444444444,\"#bd3786\"],[0.5555555555555556,\"#d8576b\"],[0.6666666666666666,\"#ed7953\"],[0.7777777777777778,\"#fb9f3a\"],[0.8888888888888888,\"#fdca26\"],[1.0,\"#f0f921\"]],\"sequentialminus\":[[0.0,\"#0d0887\"],[0.1111111111111111,\"#46039f\"],[0.2222222222222222,\"#7201a8\"],[0.3333333333333333,\"#9c179e\"],[0.4444444444444444,\"#bd3786\"],[0.5555555555555556,\"#d8576b\"],[0.6666666666666666,\"#ed7953\"],[0.7777777777777778,\"#fb9f3a\"],[0.8888888888888888,\"#fdca26\"],[1.0,\"#f0f921\"]],\"diverging\":[[0,\"#8e0152\"],[0.1,\"#c51b7d\"],[0.2,\"#de77ae\"],[0.3,\"#f1b6da\"],[0.4,\"#fde0ef\"],[0.5,\"#f7f7f7\"],[0.6,\"#e6f5d0\"],[0.7,\"#b8e186\"],[0.8,\"#7fbc41\"],[0.9,\"#4d9221\"],[1,\"#276419\"]]},\"xaxis\":{\"gridcolor\":\"white\",\"linecolor\":\"white\",\"ticks\":\"\",\"title\":{\"standoff\":15},\"zerolinecolor\":\"white\",\"automargin\":true,\"zerolinewidth\":2},\"yaxis\":{\"gridcolor\":\"white\",\"linecolor\":\"white\",\"ticks\":\"\",\"title\":{\"standoff\":15},\"zerolinecolor\":\"white\",\"automargin\":true,\"zerolinewidth\":2},\"scene\":{\"xaxis\":{\"backgroundcolor\":\"#E5ECF6\",\"gridcolor\":\"white\",\"linecolor\":\"white\",\"showbackground\":true,\"ticks\":\"\",\"zerolinecolor\":\"white\",\"gridwidth\":2},\"yaxis\":{\"backgroundcolor\":\"#E5ECF6\",\"gridcolor\":\"white\",\"linecolor\":\"white\",\"showbackground\":true,\"ticks\":\"\",\"zerolinecolor\":\"white\",\"gridwidth\":2},\"zaxis\":{\"backgroundcolor\":\"#E5ECF6\",\"gridcolor\":\"white\",\"linecolor\":\"white\",\"showbackground\":true,\"ticks\":\"\",\"zerolinecolor\":\"white\",\"gridwidth\":2}},\"shapedefaults\":{\"line\":{\"color\":\"#2a3f5f\"}},\"annotationdefaults\":{\"arrowcolor\":\"#2a3f5f\",\"arrowhead\":0,\"arrowwidth\":1},\"geo\":{\"bgcolor\":\"white\",\"landcolor\":\"#E5ECF6\",\"subunitcolor\":\"white\",\"showland\":true,\"showlakes\":true,\"lakecolor\":\"white\"},\"title\":{\"x\":0.05},\"mapbox\":{\"style\":\"light\"}}}},                        {\"responsive\": true}                    ).then(function(){\n",
       "                            \n",
       "var gd = document.getElementById('10b779ce-6c54-4927-95a2-956971649a85');\n",
       "var x = new MutationObserver(function (mutations, observer) {{\n",
       "        var display = window.getComputedStyle(gd).display;\n",
       "        if (!display || display === 'none') {{\n",
       "            console.log([gd, 'removed!']);\n",
       "            Plotly.purge(gd);\n",
       "            observer.disconnect();\n",
       "        }}\n",
       "}});\n",
       "\n",
       "// Listen for the removal of the full notebook cells\n",
       "var notebookContainer = gd.closest('#notebook-container');\n",
       "if (notebookContainer) {{\n",
       "    x.observe(notebookContainer, {childList: true});\n",
       "}}\n",
       "\n",
       "// Listen for the clearing of the current output cell\n",
       "var outputEl = gd.closest('.output');\n",
       "if (outputEl) {{\n",
       "    x.observe(outputEl, {childList: true});\n",
       "}}\n",
       "\n",
       "                        })                };                });            </script>        </div>"
      ]
     },
     "metadata": {},
     "output_type": "display_data"
    }
   ],
   "source": [
    "optuna.visualization.plot_parallel_coordinate(study)"
   ]
  },
  {
   "cell_type": "code",
   "execution_count": null,
   "metadata": {},
   "outputs": [],
   "source": []
  }
 ],
 "metadata": {
  "colab": {
   "collapsed_sections": [
    "c8ejwGcGBxhH",
    "CwRtSIpc43U-"
   ],
   "provenance": []
  },
  "kernelspec": {
   "display_name": "Python 3 (ipykernel)",
   "language": "python",
   "name": "python3"
  },
  "language_info": {
   "codemirror_mode": {
    "name": "ipython",
    "version": 3
   },
   "file_extension": ".py",
   "mimetype": "text/x-python",
   "name": "python",
   "nbconvert_exporter": "python",
   "pygments_lexer": "ipython3",
   "version": "3.8.10"
  }
 },
 "nbformat": 4,
 "nbformat_minor": 1
}
