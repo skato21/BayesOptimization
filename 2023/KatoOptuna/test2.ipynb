{
 "cells": [
  {
   "cell_type": "code",
   "execution_count": 4,
   "metadata": {},
   "outputs": [
    {
     "name": "stdout",
     "output_type": "stream",
     "text": [
      "<generator object <genexpr> at 0x7f95ee024ba0>\n"
     ]
    }
   ],
   "source": [
    "\n",
    "\n",
    "print(i+5 for i in range (5))"
   ]
  },
  {
   "cell_type": "code",
   "execution_count": null,
   "metadata": {},
   "outputs": [],
   "source": [
    "for i in range (nxr):\n",
    "    for j in range (nxr - i):\n",
    "\n",
    "        scatter_plot = ax2[j,nxr-1-i].scatter(\n",
    "        data[f\"x{j}\"], \n",
    "        data[f\"x{nxr-1-i}\"], \n",
    "        c=data[\"evaluate_value\"],\n",
    "        cmap=\"coolwarm\",\n",
    "        marker='o',\n",
    "        label=f\"[ {j}, {nxr-1-i} ] projection graph\")\n",
    "        \n",
    "        ax2[j,nxr-1-i].legend()\n",
    "        ax2[j,nxr-1-i].grid()\n",
    "        ax2[j,nxr-1-i].set_xlabel(\"x\" + str(nxr-1-i))\n",
    "        ax2[j,nxr-1-i].set_ylabel(\"x\" + str(j))"
   ]
  }
 ],
 "metadata": {
  "kernelspec": {
   "display_name": "optuna",
   "language": "python",
   "name": "python3"
  },
  "language_info": {
   "codemirror_mode": {
    "name": "ipython",
    "version": 3
   },
   "file_extension": ".py",
   "mimetype": "text/x-python",
   "name": "python",
   "nbconvert_exporter": "python",
   "pygments_lexer": "ipython3",
   "version": "3.11.6"
  }
 },
 "nbformat": 4,
 "nbformat_minor": 2
}
