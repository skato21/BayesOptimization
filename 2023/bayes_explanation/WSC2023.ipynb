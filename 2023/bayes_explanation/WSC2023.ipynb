{
 "cells": [
  {
   "cell_type": "code",
   "execution_count": 71,
   "metadata": {},
   "outputs": [
    {
     "name": "stdout",
     "output_type": "stream",
     "text": [
      "371818517.15234226\n",
      "23303991.103901252\n"
     ]
    }
   ],
   "source": [
    "import numpy as np\n",
    "import pandas as pd\n",
    "import matplotlib.pyplot as plt\n",
    "\n",
    "difflist = []\n",
    "\n",
    "for i in range (3,52):\n",
    "    \n",
    "    filename = \"RigolDS\" + str(i) + \".csv\"\n",
    "\n",
    "    df = pd.read_csv(\"csv/\" + filename, encoding = \"SHIFT-JIS\")\n",
    "\n",
    "    min1 = df[\"CH1(V)\"].min()\n",
    "    min_index1 = df[\"CH1(V)\"].idxmin()\n",
    "    #print(min_index1)\n",
    "    #print(min1/2)\n",
    "\n",
    "    min2 = df[\"CH2(V)\"].min()\n",
    "    min_index2 = df[\"CH2(V)\"].idxmin()\n",
    "    #print(min_index2)\n",
    "\n",
    "    newdf = df.loc[0:max(min_index1,min_index2)]\n",
    "    #print(len(newdf))\n",
    "\n",
    "    index1 = (newdf[\"CH1(V)\"]-min1/2).abs().idxmin()\n",
    "    #print(index1)\n",
    "\n",
    "    time1 = newdf[\"Time(s)\"][index1]\n",
    "\n",
    "    index2 = (newdf[\"CH2(V)\"]-min2/2).abs().idxmin()\n",
    "    #print(index2)\n",
    "\n",
    "    time2 = newdf[\"Time(s)\"][index2]\n",
    "\n",
    "    diff = time2 - time1\n",
    "    \n",
    "    #print(diff)\n",
    "    \n",
    "    difflist.append(diff)\n",
    "\n",
    "mean = np.mean(difflist)\n",
    "\n",
    "Tmean = mean -1.37*pow(10,-9)\n",
    "\n",
    "print(1.44/Tmean)\n",
    "\n",
    "std = np.std(difflist)\n",
    "error = std/np.sqrt(48)\n",
    "\n",
    "\n",
    "print(1.44*error/(mean*mean))\n",
    "\n"
   ]
  },
  {
   "cell_type": "code",
   "execution_count": null,
   "metadata": {},
   "outputs": [],
   "source": []
  }
 ],
 "metadata": {
  "kernelspec": {
   "display_name": "optuna",
   "language": "python",
   "name": "python3"
  },
  "language_info": {
   "codemirror_mode": {
    "name": "ipython",
    "version": 3
   },
   "file_extension": ".py",
   "mimetype": "text/x-python",
   "name": "python",
   "nbconvert_exporter": "python",
   "pygments_lexer": "ipython3",
   "version": "3.11.6"
  }
 },
 "nbformat": 4,
 "nbformat_minor": 2
}
